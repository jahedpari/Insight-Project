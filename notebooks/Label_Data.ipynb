{
 "cells": [
  {
   "cell_type": "code",
   "execution_count": 136,
   "metadata": {},
   "outputs": [
    {
     "data": {
      "text/plain": [
       "7351"
      ]
     },
     "execution_count": 136,
     "metadata": {},
     "output_type": "execute_result"
    }
   ],
   "source": [
    "#import keras\n",
    "import nltk\n",
    "import pandas as pd\n",
    "import numpy as np\n",
    "import re\n",
    "import codecs\n",
    "import gc\n",
    "from nltk.corpus import wordnet\n",
    "import numpy as np\n",
    "import matplotlib.pyplot as plt\n",
    "from nltk.corpus import stopwords\n",
    "from nltk.stem.wordnet import WordNetLemmatizer\n",
    "from nltk.corpus import stopwords\n",
    "from nltk.tokenize import word_tokenize\n",
    "from pivottablejs import pivot_ui\n",
    "import random \n",
    "gc.collect()\n",
    "    "
   ]
  },
  {
   "cell_type": "code",
   "execution_count": 137,
   "metadata": {},
   "outputs": [],
   "source": [
    "inputFile=\"../data/cleaned/outputFile2-0-500000.csv\" \n",
    "df = pd.read_csv(inputFile, dtype = {\"primary_price\" : \"string\"})\n",
    "df = df.drop(['id'], axis=1)\n",
    "df=df[0:1000]\n",
    "\n",
    "# our categories and their related words\n",
    "classes=['unisex', 'men', 'women', 'kid', 'baby']\n",
    "manNet=['man','men', 'male', 'gentleman', 'gent','masculine',' manlike', ' mannish']\n",
    "womanNet=['woman', 'women', 'lady', 'female' 'ladies', 'girl','feminine','unmacho','metrosexual' ]\n",
    "babyNet= ['baby','toddler','infant', 'babe', 'bambino', 'infant', 'neonate', 'newborn']\n",
    "kidNet=['kid','child', 'children', 'child', 'youth', 'joni','schoolchild', 'schoolgirl', 'schoolkid','junior']\n",
    "unisexNet=['unisex','androgynous', 'genderless', 'unisexual']\n",
    "\n",
    "\n"
   ]
  },
  {
   "cell_type": "code",
   "execution_count": 138,
   "metadata": {},
   "outputs": [],
   "source": [
    "# Helper Functions\n",
    "\n",
    "def plot_class_distribution (data_frame, groupby_feature,class_name, starting_index=0):\n",
    "    grouped  = data_frame.groupby([class_name]) \n",
    "    values=grouped[groupby_feature].agg(np.size)[starting_index:]  \n",
    "    labels =  values.index.tolist()  \n",
    "    y_pos = np.arange(len(labels))\n",
    "    plt.bar(y_pos, values)\n",
    "    plt.xticks(y_pos, labels)\n",
    "    plt.xlabel('Product categories')\n",
    "    plt.ylabel('Number of Products')\n",
    "    plt.show()\n",
    "\n"
   ]
  },
  {
   "cell_type": "code",
   "execution_count": 139,
   "metadata": {},
   "outputs": [],
   "source": [
    "#Cleaning the dataset\n",
    "\n",
    "\n",
    "#map NLTK’s POS tags\n",
    "def get_wordnet_pos(word):\n",
    "    \"\"\"Map POS tag to first character lemmatize() accepts\"\"\"\n",
    "    tag = nltk.pos_tag([word])[0][1][0].upper()\n",
    "    tag_dict = {\"J\": wordnet.ADJ,\n",
    "                \"N\": wordnet.NOUN,\n",
    "                \"V\": wordnet.VERB,\n",
    "                \"R\": wordnet.ADV}\n",
    "    return tag_dict.get(tag, wordnet.NOUN)\n",
    "\n",
    "\n",
    "#Lemmatize Normalization\n",
    "def normalize (tokens):\n",
    "    lem = WordNetLemmatizer()\n",
    "    return [lem.lemmatize(token,pos=get_wordnet_pos(token)) for token in tokens]\n",
    "\n",
    "#clean up  tokenized  data\n",
    "def standardize_tokens (tokens):\n",
    "    return [token.lower() for token in tokens]\n",
    "\n",
    "#Few regular expressions to clean up  text data\n",
    "def standardize_text(df, text_field):\n",
    "    df[text_field] = df[text_field].str.replace(r\"http\\S+\", \"\")\n",
    "    df[text_field] = df[text_field].str.replace(r\".com\", \"\")\n",
    "    df[text_field] = df[text_field].str.replace(r\"http\", \"\")\n",
    "    df[text_field] = df[text_field].str.replace(r\"@\\S+\", \"\")\n",
    "    df[text_field] = df[text_field].str.replace(r\"[^A-Za-z0-9(),!?@\\'\\`\\\"\\_\\n]\", \" \")\n",
    "    df[text_field] = df[text_field].str.replace(r\"@\", \"at\")\n",
    "    df[text_field] = df[text_field].str.replace(r\"nan\", \"\")\n",
    "    df[text_field] = df[text_field].str.lower()\n",
    "    #tokenize text\n",
    "    df[text_field] = df[text_field].apply(word_tokenize)\n",
    "    #remove stop words\n",
    "    stop_words=set(stopwords.words(\"english\"))\n",
    "    df[text_field] = df[text_field].apply(lambda x: [item for item in x if item not in stop_words] )\n",
    "    #normalize text\n",
    "    df[text_field] = df[text_field].apply(normalize)\n",
    "        \n",
    "   \n"
   ]
  },
  {
   "cell_type": "code",
   "execution_count": 140,
   "metadata": {},
   "outputs": [
    {
     "data": {
      "text/html": [
       "<div>\n",
       "<style scoped>\n",
       "    .dataframe tbody tr th:only-of-type {\n",
       "        vertical-align: middle;\n",
       "    }\n",
       "\n",
       "    .dataframe tbody tr th {\n",
       "        vertical-align: top;\n",
       "    }\n",
       "\n",
       "    .dataframe thead th {\n",
       "        text-align: right;\n",
       "    }\n",
       "</style>\n",
       "<table border=\"1\" class=\"dataframe\">\n",
       "  <thead>\n",
       "    <tr style=\"text-align: right;\">\n",
       "      <th></th>\n",
       "      <th>product_type</th>\n",
       "      <th>vendor_name</th>\n",
       "      <th>title</th>\n",
       "      <th>store_domain</th>\n",
       "      <th>store_product_brand_domain</th>\n",
       "      <th>description</th>\n",
       "      <th>primary_price</th>\n",
       "      <th>full_store_product_url</th>\n",
       "    </tr>\n",
       "  </thead>\n",
       "  <tbody>\n",
       "    <tr>\n",
       "      <th>0</th>\n",
       "      <td>Cookware</td>\n",
       "      <td>Hestan</td>\n",
       "      <td>Hestan Nanobond Stainless 3qt/2.8L covered sau...</td>\n",
       "      <td>atlantagrillcompany.com</td>\n",
       "      <td>hestanculinary.com</td>\n",
       "      <td>NaN</td>\n",
       "      <td>290.0</td>\n",
       "      <td>https://atlantagrillcompany.com/products/hesta...</td>\n",
       "    </tr>\n",
       "    <tr>\n",
       "      <th>1</th>\n",
       "      <td>Cookware</td>\n",
       "      <td>Hestan</td>\n",
       "      <td>Hestan Nanobond Titanium Stockpot 8-Quart</td>\n",
       "      <td>atlantagrillcompany.com</td>\n",
       "      <td>hestanculinary.com</td>\n",
       "      <td>NaN</td>\n",
       "      <td>450.0</td>\n",
       "      <td>https://atlantagrillcompany.com/products/hesta...</td>\n",
       "    </tr>\n",
       "    <tr>\n",
       "      <th>2</th>\n",
       "      <td>Skillets</td>\n",
       "      <td>Hestan</td>\n",
       "      <td>Hestan Nanobond 8.5\" Open Skillet</td>\n",
       "      <td>dasallas.com</td>\n",
       "      <td>hestanculinary.com</td>\n",
       "      <td>NaN</td>\n",
       "      <td>189.95</td>\n",
       "      <td>https://dasallas.com/products/hestan-nanobond-...</td>\n",
       "    </tr>\n",
       "    <tr>\n",
       "      <th>3</th>\n",
       "      <td>Saucepans &amp; Sauciers</td>\n",
       "      <td>Hestan</td>\n",
       "      <td>Hestan Nanobond 5-Quart Covered Essential Pan ...</td>\n",
       "      <td>dasallas.com</td>\n",
       "      <td>hestanculinary.com</td>\n",
       "      <td>NaN</td>\n",
       "      <td>499.95</td>\n",
       "      <td>https://dasallas.com/products/hestan-nanobond-...</td>\n",
       "    </tr>\n",
       "    <tr>\n",
       "      <th>4</th>\n",
       "      <td>Cookware</td>\n",
       "      <td>Hestan</td>\n",
       "      <td>Hestan ProBond Forged Stainless Steel Ultimate...</td>\n",
       "      <td>atlantagrillcompany.com</td>\n",
       "      <td>hestanculinary.com</td>\n",
       "      <td>NaN</td>\n",
       "      <td>799.99</td>\n",
       "      <td>https://atlantagrillcompany.com/products/hesta...</td>\n",
       "    </tr>\n",
       "  </tbody>\n",
       "</table>\n",
       "</div>"
      ],
      "text/plain": [
       "           product_type vendor_name  \\\n",
       "0              Cookware      Hestan   \n",
       "1              Cookware      Hestan   \n",
       "2              Skillets      Hestan   \n",
       "3  Saucepans & Sauciers      Hestan   \n",
       "4              Cookware      Hestan   \n",
       "\n",
       "                                               title             store_domain  \\\n",
       "0  Hestan Nanobond Stainless 3qt/2.8L covered sau...  atlantagrillcompany.com   \n",
       "1          Hestan Nanobond Titanium Stockpot 8-Quart  atlantagrillcompany.com   \n",
       "2                  Hestan Nanobond 8.5\" Open Skillet             dasallas.com   \n",
       "3  Hestan Nanobond 5-Quart Covered Essential Pan ...             dasallas.com   \n",
       "4  Hestan ProBond Forged Stainless Steel Ultimate...  atlantagrillcompany.com   \n",
       "\n",
       "  store_product_brand_domain  description primary_price  \\\n",
       "0         hestanculinary.com          NaN         290.0   \n",
       "1         hestanculinary.com          NaN         450.0   \n",
       "2         hestanculinary.com          NaN        189.95   \n",
       "3         hestanculinary.com          NaN        499.95   \n",
       "4         hestanculinary.com          NaN        799.99   \n",
       "\n",
       "                              full_store_product_url  \n",
       "0  https://atlantagrillcompany.com/products/hesta...  \n",
       "1  https://atlantagrillcompany.com/products/hesta...  \n",
       "2  https://dasallas.com/products/hestan-nanobond-...  \n",
       "3  https://dasallas.com/products/hestan-nanobond-...  \n",
       "4  https://atlantagrillcompany.com/products/hesta...  "
      ]
     },
     "execution_count": 140,
     "metadata": {},
     "output_type": "execute_result"
    }
   ],
   "source": [
    "df.head()"
   ]
  },
  {
   "cell_type": "code",
   "execution_count": 141,
   "metadata": {},
   "outputs": [],
   "source": [
    "\n",
    "df['title']=df['title'].astype(str)\n",
    "df['product_type']=df['product_type'].astype(str)\n",
    "df['description']=df['description'].astype(str)\n",
    "df['store_domain']=df['store_domain'].astype(str)\n",
    "df['vendor_name']=df['vendor_name'].astype(str)\n",
    "df['store_product_brand_domain']=df['store_product_brand_domain'].astype(str)\n",
    " \n",
    "# df['all_text_original'] = df.values.sum(axis=1)\n",
    "#df['all_text_original'] = df.apply( str.join( \" \" ))\n",
    "\n",
    "df['all_text_original'] = df['product_type']+\" \"+df['vendor_name']+\" \"+df['title']+\" \"+df['store_domain']+\" \"+df['store_product_brand_domain']+\" \"+df['description']\n",
    "df['vendor_name_original'] = df['vendor_name'].str.lower()\n",
    "\n",
    "standardize_text(df, 'product_type')\n",
    "standardize_text(df, 'vendor_name')\n",
    "standardize_text(df, 'title')\n",
    "standardize_text(df, 'store_domain')\n",
    "standardize_text(df, 'description')\n",
    "standardize_text(df,'store_product_brand_domain')\n",
    "\n",
    "#combine all token in all columns into one column\n",
    "#df['all_tokens'] = df.values[:,['product_type','vendor_name', 'title', 'store_domain', 'description']].sum(axis=1)\n",
    "df['all_tokens'] = df.values[:,0:6].sum(axis=1)\n",
    "\n",
    " \n",
    "    "
   ]
  },
  {
   "cell_type": "markdown",
   "metadata": {},
   "source": [
    "##  Frequency of the categories and their synonyms in the product information \n"
   ]
  },
  {
   "cell_type": "code",
   "execution_count": 142,
   "metadata": {},
   "outputs": [
    {
     "data": {
      "text/html": [
       "<div>\n",
       "<style scoped>\n",
       "    .dataframe tbody tr th:only-of-type {\n",
       "        vertical-align: middle;\n",
       "    }\n",
       "\n",
       "    .dataframe tbody tr th {\n",
       "        vertical-align: top;\n",
       "    }\n",
       "\n",
       "    .dataframe thead th {\n",
       "        text-align: right;\n",
       "    }\n",
       "</style>\n",
       "<table border=\"1\" class=\"dataframe\">\n",
       "  <thead>\n",
       "    <tr style=\"text-align: right;\">\n",
       "      <th></th>\n",
       "      <th>product_type</th>\n",
       "      <th>vendor_name</th>\n",
       "      <th>title</th>\n",
       "      <th>store_domain</th>\n",
       "      <th>store_product_brand_domain</th>\n",
       "      <th>description</th>\n",
       "      <th>primary_price</th>\n",
       "      <th>full_store_product_url</th>\n",
       "      <th>all_text_original</th>\n",
       "      <th>vendor_name_original</th>\n",
       "      <th>all_tokens</th>\n",
       "      <th>unisex</th>\n",
       "      <th>men</th>\n",
       "      <th>women</th>\n",
       "      <th>baby</th>\n",
       "      <th>kid</th>\n",
       "      <th>class</th>\n",
       "    </tr>\n",
       "  </thead>\n",
       "  <tbody>\n",
       "    <tr>\n",
       "      <th>0</th>\n",
       "      <td>[cookware]</td>\n",
       "      <td>[hestan]</td>\n",
       "      <td>[hestan, nanobond, stainless, 3qt, 2, 8l, cove...</td>\n",
       "      <td>[atlantagrilpany]</td>\n",
       "      <td>[hestanculinary]</td>\n",
       "      <td>[]</td>\n",
       "      <td>290.0</td>\n",
       "      <td>https://atlantagrillcompany.com/products/hesta...</td>\n",
       "      <td>Cookware Hestan Hestan Nanobond Stainless 3qt/...</td>\n",
       "      <td>hestan</td>\n",
       "      <td>[cookware, hestan, hestan, nanobond, stainless...</td>\n",
       "      <td>0</td>\n",
       "      <td>0</td>\n",
       "      <td>0</td>\n",
       "      <td>0</td>\n",
       "      <td>0</td>\n",
       "      <td>-1</td>\n",
       "    </tr>\n",
       "    <tr>\n",
       "      <th>1</th>\n",
       "      <td>[cookware]</td>\n",
       "      <td>[hestan]</td>\n",
       "      <td>[hestan, nanobond, titanium, stockpot, 8, quart]</td>\n",
       "      <td>[atlantagrilpany]</td>\n",
       "      <td>[hestanculinary]</td>\n",
       "      <td>[]</td>\n",
       "      <td>450.0</td>\n",
       "      <td>https://atlantagrillcompany.com/products/hesta...</td>\n",
       "      <td>Cookware Hestan Hestan Nanobond Titanium Stock...</td>\n",
       "      <td>hestan</td>\n",
       "      <td>[cookware, hestan, hestan, nanobond, titanium,...</td>\n",
       "      <td>0</td>\n",
       "      <td>0</td>\n",
       "      <td>0</td>\n",
       "      <td>0</td>\n",
       "      <td>0</td>\n",
       "      <td>-1</td>\n",
       "    </tr>\n",
       "    <tr>\n",
       "      <th>2</th>\n",
       "      <td>[skillet]</td>\n",
       "      <td>[hestan]</td>\n",
       "      <td>[hestan, nanobond, 8, 5, '', open, skillet]</td>\n",
       "      <td>[dasallas]</td>\n",
       "      <td>[hestanculinary]</td>\n",
       "      <td>[]</td>\n",
       "      <td>189.95</td>\n",
       "      <td>https://dasallas.com/products/hestan-nanobond-...</td>\n",
       "      <td>Skillets Hestan Hestan Nanobond 8.5\" Open Skil...</td>\n",
       "      <td>hestan</td>\n",
       "      <td>[skillet, hestan, hestan, nanobond, 8, 5, '', ...</td>\n",
       "      <td>0</td>\n",
       "      <td>0</td>\n",
       "      <td>0</td>\n",
       "      <td>0</td>\n",
       "      <td>0</td>\n",
       "      <td>-1</td>\n",
       "    </tr>\n",
       "    <tr>\n",
       "      <th>3</th>\n",
       "      <td>[saucepan, sauciers]</td>\n",
       "      <td>[hestan]</td>\n",
       "      <td>[hestan, nanobond, 5, quart, cover, essential,...</td>\n",
       "      <td>[dasallas]</td>\n",
       "      <td>[hestanculinary]</td>\n",
       "      <td>[]</td>\n",
       "      <td>499.95</td>\n",
       "      <td>https://dasallas.com/products/hestan-nanobond-...</td>\n",
       "      <td>Saucepans &amp; Sauciers Hestan Hestan Nanobond 5-...</td>\n",
       "      <td>hestan</td>\n",
       "      <td>[saucepan, sauciers, hestan, hestan, nanobond,...</td>\n",
       "      <td>0</td>\n",
       "      <td>0</td>\n",
       "      <td>0</td>\n",
       "      <td>0</td>\n",
       "      <td>0</td>\n",
       "      <td>-1</td>\n",
       "    </tr>\n",
       "    <tr>\n",
       "      <th>4</th>\n",
       "      <td>[cookware]</td>\n",
       "      <td>[hestan]</td>\n",
       "      <td>[hestan, probond, forge, stainless, steel, ult...</td>\n",
       "      <td>[atlantagrilpany]</td>\n",
       "      <td>[hestanculinary]</td>\n",
       "      <td>[]</td>\n",
       "      <td>799.99</td>\n",
       "      <td>https://atlantagrillcompany.com/products/hesta...</td>\n",
       "      <td>Cookware Hestan Hestan ProBond Forged Stainles...</td>\n",
       "      <td>hestan</td>\n",
       "      <td>[cookware, hestan, hestan, probond, forge, sta...</td>\n",
       "      <td>0</td>\n",
       "      <td>0</td>\n",
       "      <td>0</td>\n",
       "      <td>0</td>\n",
       "      <td>0</td>\n",
       "      <td>-1</td>\n",
       "    </tr>\n",
       "  </tbody>\n",
       "</table>\n",
       "</div>"
      ],
      "text/plain": [
       "           product_type vendor_name  \\\n",
       "0            [cookware]    [hestan]   \n",
       "1            [cookware]    [hestan]   \n",
       "2             [skillet]    [hestan]   \n",
       "3  [saucepan, sauciers]    [hestan]   \n",
       "4            [cookware]    [hestan]   \n",
       "\n",
       "                                               title       store_domain  \\\n",
       "0  [hestan, nanobond, stainless, 3qt, 2, 8l, cove...  [atlantagrilpany]   \n",
       "1   [hestan, nanobond, titanium, stockpot, 8, quart]  [atlantagrilpany]   \n",
       "2        [hestan, nanobond, 8, 5, '', open, skillet]         [dasallas]   \n",
       "3  [hestan, nanobond, 5, quart, cover, essential,...         [dasallas]   \n",
       "4  [hestan, probond, forge, stainless, steel, ult...  [atlantagrilpany]   \n",
       "\n",
       "  store_product_brand_domain description primary_price  \\\n",
       "0           [hestanculinary]          []         290.0   \n",
       "1           [hestanculinary]          []         450.0   \n",
       "2           [hestanculinary]          []        189.95   \n",
       "3           [hestanculinary]          []        499.95   \n",
       "4           [hestanculinary]          []        799.99   \n",
       "\n",
       "                              full_store_product_url  \\\n",
       "0  https://atlantagrillcompany.com/products/hesta...   \n",
       "1  https://atlantagrillcompany.com/products/hesta...   \n",
       "2  https://dasallas.com/products/hestan-nanobond-...   \n",
       "3  https://dasallas.com/products/hestan-nanobond-...   \n",
       "4  https://atlantagrillcompany.com/products/hesta...   \n",
       "\n",
       "                                   all_text_original vendor_name_original  \\\n",
       "0  Cookware Hestan Hestan Nanobond Stainless 3qt/...               hestan   \n",
       "1  Cookware Hestan Hestan Nanobond Titanium Stock...               hestan   \n",
       "2  Skillets Hestan Hestan Nanobond 8.5\" Open Skil...               hestan   \n",
       "3  Saucepans & Sauciers Hestan Hestan Nanobond 5-...               hestan   \n",
       "4  Cookware Hestan Hestan ProBond Forged Stainles...               hestan   \n",
       "\n",
       "                                          all_tokens  unisex  men  women  \\\n",
       "0  [cookware, hestan, hestan, nanobond, stainless...       0    0      0   \n",
       "1  [cookware, hestan, hestan, nanobond, titanium,...       0    0      0   \n",
       "2  [skillet, hestan, hestan, nanobond, 8, 5, '', ...       0    0      0   \n",
       "3  [saucepan, sauciers, hestan, hestan, nanobond,...       0    0      0   \n",
       "4  [cookware, hestan, hestan, probond, forge, sta...       0    0      0   \n",
       "\n",
       "   baby  kid class  \n",
       "0     0    0    -1  \n",
       "1     0    0    -1  \n",
       "2     0    0    -1  \n",
       "3     0    0    -1  \n",
       "4     0    0    -1  "
      ]
     },
     "metadata": {},
     "output_type": "display_data"
    }
   ],
   "source": [
    "#count occurence of keyword in the list\n",
    "def countFreq (product_info, keywordList):\n",
    "    total_count =0\n",
    "    for item in product_info:\n",
    "      total_count += keywordList.count(item)\n",
    "    return total_count\n",
    "\n",
    "\n",
    "        \n",
    "\n",
    "df['unisex'] = df['all_tokens'].apply(countFreq,keywordList=unisexNet)   \n",
    "df['men'] = df['all_tokens'].apply(countFreq,keywordList=manNet) \n",
    "df['women'] = df['all_tokens'].apply(countFreq,keywordList=womanNet)  \n",
    "df['baby'] = df['all_tokens'].apply(countFreq,keywordList=babyNet)  \n",
    "df['kid'] = df['all_tokens'].apply(countFreq,keywordList=kidNet)\n",
    "  \n",
    "df['class']=  '-1'\n",
    "\n",
    "display(df.head())"
   ]
  },
  {
   "cell_type": "markdown",
   "metadata": {},
   "source": [
    "## Choose the label with the highest occurance of the keyword "
   ]
  },
  {
   "cell_type": "code",
   "execution_count": 143,
   "metadata": {},
   "outputs": [
    {
     "data": {
      "text/html": [
       "<div>\n",
       "<style scoped>\n",
       "    .dataframe tbody tr th:only-of-type {\n",
       "        vertical-align: middle;\n",
       "    }\n",
       "\n",
       "    .dataframe tbody tr th {\n",
       "        vertical-align: top;\n",
       "    }\n",
       "\n",
       "    .dataframe thead th {\n",
       "        text-align: right;\n",
       "    }\n",
       "</style>\n",
       "<table border=\"1\" class=\"dataframe\">\n",
       "  <thead>\n",
       "    <tr style=\"text-align: right;\">\n",
       "      <th></th>\n",
       "      <th>product_type</th>\n",
       "      <th>vendor_name</th>\n",
       "      <th>title</th>\n",
       "      <th>store_domain</th>\n",
       "      <th>store_product_brand_domain</th>\n",
       "      <th>description</th>\n",
       "      <th>primary_price</th>\n",
       "      <th>full_store_product_url</th>\n",
       "      <th>all_text_original</th>\n",
       "      <th>vendor_name_original</th>\n",
       "      <th>all_tokens</th>\n",
       "      <th>unisex</th>\n",
       "      <th>men</th>\n",
       "      <th>women</th>\n",
       "      <th>baby</th>\n",
       "      <th>kid</th>\n",
       "      <th>class</th>\n",
       "    </tr>\n",
       "  </thead>\n",
       "  <tbody>\n",
       "    <tr>\n",
       "      <th>0</th>\n",
       "      <td>[cookware]</td>\n",
       "      <td>[hestan]</td>\n",
       "      <td>[hestan, nanobond, stainless, 3qt, 2, 8l, cove...</td>\n",
       "      <td>[atlantagrilpany]</td>\n",
       "      <td>[hestanculinary]</td>\n",
       "      <td>[]</td>\n",
       "      <td>290.0</td>\n",
       "      <td>https://atlantagrillcompany.com/products/hesta...</td>\n",
       "      <td>Cookware Hestan Hestan Nanobond Stainless 3qt/...</td>\n",
       "      <td>hestan</td>\n",
       "      <td>[cookware, hestan, hestan, nanobond, stainless...</td>\n",
       "      <td>0</td>\n",
       "      <td>0</td>\n",
       "      <td>0</td>\n",
       "      <td>0</td>\n",
       "      <td>0</td>\n",
       "      <td>-1</td>\n",
       "    </tr>\n",
       "    <tr>\n",
       "      <th>1</th>\n",
       "      <td>[cookware]</td>\n",
       "      <td>[hestan]</td>\n",
       "      <td>[hestan, nanobond, titanium, stockpot, 8, quart]</td>\n",
       "      <td>[atlantagrilpany]</td>\n",
       "      <td>[hestanculinary]</td>\n",
       "      <td>[]</td>\n",
       "      <td>450.0</td>\n",
       "      <td>https://atlantagrillcompany.com/products/hesta...</td>\n",
       "      <td>Cookware Hestan Hestan Nanobond Titanium Stock...</td>\n",
       "      <td>hestan</td>\n",
       "      <td>[cookware, hestan, hestan, nanobond, titanium,...</td>\n",
       "      <td>0</td>\n",
       "      <td>0</td>\n",
       "      <td>0</td>\n",
       "      <td>0</td>\n",
       "      <td>0</td>\n",
       "      <td>-1</td>\n",
       "    </tr>\n",
       "    <tr>\n",
       "      <th>2</th>\n",
       "      <td>[skillet]</td>\n",
       "      <td>[hestan]</td>\n",
       "      <td>[hestan, nanobond, 8, 5, '', open, skillet]</td>\n",
       "      <td>[dasallas]</td>\n",
       "      <td>[hestanculinary]</td>\n",
       "      <td>[]</td>\n",
       "      <td>189.95</td>\n",
       "      <td>https://dasallas.com/products/hestan-nanobond-...</td>\n",
       "      <td>Skillets Hestan Hestan Nanobond 8.5\" Open Skil...</td>\n",
       "      <td>hestan</td>\n",
       "      <td>[skillet, hestan, hestan, nanobond, 8, 5, '', ...</td>\n",
       "      <td>0</td>\n",
       "      <td>0</td>\n",
       "      <td>0</td>\n",
       "      <td>0</td>\n",
       "      <td>0</td>\n",
       "      <td>-1</td>\n",
       "    </tr>\n",
       "    <tr>\n",
       "      <th>3</th>\n",
       "      <td>[saucepan, sauciers]</td>\n",
       "      <td>[hestan]</td>\n",
       "      <td>[hestan, nanobond, 5, quart, cover, essential,...</td>\n",
       "      <td>[dasallas]</td>\n",
       "      <td>[hestanculinary]</td>\n",
       "      <td>[]</td>\n",
       "      <td>499.95</td>\n",
       "      <td>https://dasallas.com/products/hestan-nanobond-...</td>\n",
       "      <td>Saucepans &amp; Sauciers Hestan Hestan Nanobond 5-...</td>\n",
       "      <td>hestan</td>\n",
       "      <td>[saucepan, sauciers, hestan, hestan, nanobond,...</td>\n",
       "      <td>0</td>\n",
       "      <td>0</td>\n",
       "      <td>0</td>\n",
       "      <td>0</td>\n",
       "      <td>0</td>\n",
       "      <td>-1</td>\n",
       "    </tr>\n",
       "    <tr>\n",
       "      <th>4</th>\n",
       "      <td>[cookware]</td>\n",
       "      <td>[hestan]</td>\n",
       "      <td>[hestan, probond, forge, stainless, steel, ult...</td>\n",
       "      <td>[atlantagrilpany]</td>\n",
       "      <td>[hestanculinary]</td>\n",
       "      <td>[]</td>\n",
       "      <td>799.99</td>\n",
       "      <td>https://atlantagrillcompany.com/products/hesta...</td>\n",
       "      <td>Cookware Hestan Hestan ProBond Forged Stainles...</td>\n",
       "      <td>hestan</td>\n",
       "      <td>[cookware, hestan, hestan, probond, forge, sta...</td>\n",
       "      <td>0</td>\n",
       "      <td>0</td>\n",
       "      <td>0</td>\n",
       "      <td>0</td>\n",
       "      <td>0</td>\n",
       "      <td>-1</td>\n",
       "    </tr>\n",
       "  </tbody>\n",
       "</table>\n",
       "</div>"
      ],
      "text/plain": [
       "           product_type vendor_name  \\\n",
       "0            [cookware]    [hestan]   \n",
       "1            [cookware]    [hestan]   \n",
       "2             [skillet]    [hestan]   \n",
       "3  [saucepan, sauciers]    [hestan]   \n",
       "4            [cookware]    [hestan]   \n",
       "\n",
       "                                               title       store_domain  \\\n",
       "0  [hestan, nanobond, stainless, 3qt, 2, 8l, cove...  [atlantagrilpany]   \n",
       "1   [hestan, nanobond, titanium, stockpot, 8, quart]  [atlantagrilpany]   \n",
       "2        [hestan, nanobond, 8, 5, '', open, skillet]         [dasallas]   \n",
       "3  [hestan, nanobond, 5, quart, cover, essential,...         [dasallas]   \n",
       "4  [hestan, probond, forge, stainless, steel, ult...  [atlantagrilpany]   \n",
       "\n",
       "  store_product_brand_domain description primary_price  \\\n",
       "0           [hestanculinary]          []         290.0   \n",
       "1           [hestanculinary]          []         450.0   \n",
       "2           [hestanculinary]          []        189.95   \n",
       "3           [hestanculinary]          []        499.95   \n",
       "4           [hestanculinary]          []        799.99   \n",
       "\n",
       "                              full_store_product_url  \\\n",
       "0  https://atlantagrillcompany.com/products/hesta...   \n",
       "1  https://atlantagrillcompany.com/products/hesta...   \n",
       "2  https://dasallas.com/products/hestan-nanobond-...   \n",
       "3  https://dasallas.com/products/hestan-nanobond-...   \n",
       "4  https://atlantagrillcompany.com/products/hesta...   \n",
       "\n",
       "                                   all_text_original vendor_name_original  \\\n",
       "0  Cookware Hestan Hestan Nanobond Stainless 3qt/...               hestan   \n",
       "1  Cookware Hestan Hestan Nanobond Titanium Stock...               hestan   \n",
       "2  Skillets Hestan Hestan Nanobond 8.5\" Open Skil...               hestan   \n",
       "3  Saucepans & Sauciers Hestan Hestan Nanobond 5-...               hestan   \n",
       "4  Cookware Hestan Hestan ProBond Forged Stainles...               hestan   \n",
       "\n",
       "                                          all_tokens  unisex  men  women  \\\n",
       "0  [cookware, hestan, hestan, nanobond, stainless...       0    0      0   \n",
       "1  [cookware, hestan, hestan, nanobond, titanium,...       0    0      0   \n",
       "2  [skillet, hestan, hestan, nanobond, 8, 5, '', ...       0    0      0   \n",
       "3  [saucepan, sauciers, hestan, hestan, nanobond,...       0    0      0   \n",
       "4  [cookware, hestan, hestan, probond, forge, sta...       0    0      0   \n",
       "\n",
       "   baby  kid class  \n",
       "0     0    0    -1  \n",
       "1     0    0    -1  \n",
       "2     0    0    -1  \n",
       "3     0    0    -1  \n",
       "4     0    0    -1  "
      ]
     },
     "metadata": {},
     "output_type": "display_data"
    }
   ],
   "source": [
    "# choose the label with the highest occurance of the keyword \n",
    "def findLabel(row): \n",
    "        maxCount=max(row)\n",
    "        if maxCount> 0:\n",
    "            maxLabel= row[row == maxCount].index[0] \n",
    "        else:\n",
    "            maxLabel='-1'\n",
    "        return maxLabel\n",
    "    \n",
    "df.loc[:,'class']=df.loc[:,classes].apply(findLabel,axis=1) \n",
    "display (df.head())"
   ]
  },
  {
   "cell_type": "markdown",
   "metadata": {},
   "source": [
    "##  Choose some random record to check the labeling"
   ]
  },
  {
   "cell_type": "code",
   "execution_count": 145,
   "metadata": {},
   "outputs": [],
   "source": [
    "labeled_data=df[df['class']!= '-1'].copy()\n",
    "unlabeled_data_index=df.index.difference(labeled_data.index)\n",
    "\n",
    "random_records=random.sample(labeled_data.index.to_list(), k=30) \n",
    "test=labeled_data.loc[random_records, ['class','product_type','full_store_product_url' ,'all_text_original']]\n",
    "test.to_csv(\"../data/validate/test_random_labeled_data_Round1.csv\", index=True)"
   ]
  },
  {
   "cell_type": "code",
   "execution_count": 146,
   "metadata": {},
   "outputs": [
    {
     "data": {
      "text/html": [
       "<div>\n",
       "<style scoped>\n",
       "    .dataframe tbody tr th:only-of-type {\n",
       "        vertical-align: middle;\n",
       "    }\n",
       "\n",
       "    .dataframe tbody tr th {\n",
       "        vertical-align: top;\n",
       "    }\n",
       "\n",
       "    .dataframe thead th {\n",
       "        text-align: right;\n",
       "    }\n",
       "</style>\n",
       "<table border=\"1\" class=\"dataframe\">\n",
       "  <thead>\n",
       "    <tr style=\"text-align: right;\">\n",
       "      <th></th>\n",
       "      <th>class</th>\n",
       "      <th>product_type</th>\n",
       "      <th>full_store_product_url</th>\n",
       "      <th>all_text_original</th>\n",
       "    </tr>\n",
       "  </thead>\n",
       "  <tbody>\n",
       "    <tr>\n",
       "      <th>52</th>\n",
       "      <td>kid</td>\n",
       "      <td>[]</td>\n",
       "      <td>https://supplementfirst.com/products/trace-min...</td>\n",
       "      <td>nan Trace Minerals Research Trace Minerals Res...</td>\n",
       "    </tr>\n",
       "    <tr>\n",
       "      <th>204</th>\n",
       "      <td>kid</td>\n",
       "      <td>[]</td>\n",
       "      <td>https://supplementfirst.com/products/trace-min...</td>\n",
       "      <td>nan Trace Minerals Research Trace Minerals Res...</td>\n",
       "    </tr>\n",
       "    <tr>\n",
       "      <th>176</th>\n",
       "      <td>kid</td>\n",
       "      <td>[vitamin, mineral]</td>\n",
       "      <td>https://xsnonline.com/products/liquid-kids-multi</td>\n",
       "      <td>Vitamins &amp; Minerals Trace Minerals Liquid Kid'...</td>\n",
       "    </tr>\n",
       "    <tr>\n",
       "      <th>128</th>\n",
       "      <td>kid</td>\n",
       "      <td>[supplement]</td>\n",
       "      <td>NaN</td>\n",
       "      <td>Supplements Trace Minerals Research Trace Mine...</td>\n",
       "    </tr>\n",
       "    <tr>\n",
       "      <th>30</th>\n",
       "      <td>kid</td>\n",
       "      <td>[]</td>\n",
       "      <td>https://supplementfirst.com/products/trace-min...</td>\n",
       "      <td>nan Trace Minerals Research Trace Minerals Res...</td>\n",
       "    </tr>\n",
       "    <tr>\n",
       "      <th>333</th>\n",
       "      <td>baby</td>\n",
       "      <td>[seafood]</td>\n",
       "      <td>https://basquefoodhunter.com/products/serrats-...</td>\n",
       "      <td>Seafood Serrats Baby Sardines in Olive Oil tin...</td>\n",
       "    </tr>\n",
       "    <tr>\n",
       "      <th>910</th>\n",
       "      <td>kid</td>\n",
       "      <td>[cascos]</td>\n",
       "      <td>https://dfcc.mx/products/casco-sport-kids</td>\n",
       "      <td>Cascos Orbea Casco Sport kids dfcc.mx orbea.co...</td>\n",
       "    </tr>\n",
       "    <tr>\n",
       "      <th>277</th>\n",
       "      <td>baby</td>\n",
       "      <td>[seafood]</td>\n",
       "      <td>https://basquefoodhunter.com/products/serrats-...</td>\n",
       "      <td>Seafood Serrats Baby Sardines in Olive Oil tin...</td>\n",
       "    </tr>\n",
       "    <tr>\n",
       "      <th>215</th>\n",
       "      <td>kid</td>\n",
       "      <td>[personal, care]</td>\n",
       "      <td>https://xsnonline.com/products/childrens-chewa...</td>\n",
       "      <td>Personal Care Trace Minerals Children's Chewab...</td>\n",
       "    </tr>\n",
       "    <tr>\n",
       "      <th>668</th>\n",
       "      <td>baby</td>\n",
       "      <td>[swim, diaper]</td>\n",
       "      <td>https://cutelittleme.ca/products/omaiki-baby-h...</td>\n",
       "      <td>Swim Diapers Omaiki Omaiki -Baby H2Ö One-Size ...</td>\n",
       "    </tr>\n",
       "  </tbody>\n",
       "</table>\n",
       "</div>"
      ],
      "text/plain": [
       "    class        product_type  \\\n",
       "52    kid                  []   \n",
       "204   kid                  []   \n",
       "176   kid  [vitamin, mineral]   \n",
       "128   kid        [supplement]   \n",
       "30    kid                  []   \n",
       "333  baby           [seafood]   \n",
       "910   kid            [cascos]   \n",
       "277  baby           [seafood]   \n",
       "215   kid    [personal, care]   \n",
       "668  baby      [swim, diaper]   \n",
       "\n",
       "                                full_store_product_url  \\\n",
       "52   https://supplementfirst.com/products/trace-min...   \n",
       "204  https://supplementfirst.com/products/trace-min...   \n",
       "176   https://xsnonline.com/products/liquid-kids-multi   \n",
       "128                                                NaN   \n",
       "30   https://supplementfirst.com/products/trace-min...   \n",
       "333  https://basquefoodhunter.com/products/serrats-...   \n",
       "910          https://dfcc.mx/products/casco-sport-kids   \n",
       "277  https://basquefoodhunter.com/products/serrats-...   \n",
       "215  https://xsnonline.com/products/childrens-chewa...   \n",
       "668  https://cutelittleme.ca/products/omaiki-baby-h...   \n",
       "\n",
       "                                     all_text_original  \n",
       "52   nan Trace Minerals Research Trace Minerals Res...  \n",
       "204  nan Trace Minerals Research Trace Minerals Res...  \n",
       "176  Vitamins & Minerals Trace Minerals Liquid Kid'...  \n",
       "128  Supplements Trace Minerals Research Trace Mine...  \n",
       "30   nan Trace Minerals Research Trace Minerals Res...  \n",
       "333  Seafood Serrats Baby Sardines in Olive Oil tin...  \n",
       "910  Cascos Orbea Casco Sport kids dfcc.mx orbea.co...  \n",
       "277  Seafood Serrats Baby Sardines in Olive Oil tin...  \n",
       "215  Personal Care Trace Minerals Children's Chewab...  \n",
       "668  Swim Diapers Omaiki Omaiki -Baby H2Ö One-Size ...  "
      ]
     },
     "execution_count": 146,
     "metadata": {},
     "output_type": "execute_result"
    }
   ],
   "source": [
    "test"
   ]
  },
  {
   "cell_type": "code",
   "execution_count": 147,
   "metadata": {},
   "outputs": [
    {
     "name": "stdout",
     "output_type": "stream",
     "text": [
      "Number of records labeled in round 1: 30\n",
      "Number of records not labeled in round 1: 970\n"
     ]
    }
   ],
   "source": [
    "\n",
    "print(\"Number of records labeled in round 1:\",labeled_data.shape[0])\n",
    "print(\"Number of records not labeled in round 1:\",unlabeled_data.shape[0])"
   ]
  },
  {
   "cell_type": "markdown",
   "metadata": {},
   "source": [
    "## The distribution of classes including Nan"
   ]
  },
  {
   "cell_type": "code",
   "execution_count": 148,
   "metadata": {},
   "outputs": [
    {
     "name": "stdout",
     "output_type": "stream",
     "text": [
      "class\n",
      "-1        970\n",
      "baby        9\n",
      "kid        19\n",
      "unisex      1\n",
      "women       1\n",
      "Name: product_type, dtype: int64\n"
     ]
    }
   ],
   "source": [
    "grouped  = df.groupby(['class'])     \n",
    "print(grouped['product_type'].agg(np.size))"
   ]
  },
  {
   "cell_type": "code",
   "execution_count": 149,
   "metadata": {},
   "outputs": [
    {
     "data": {
      "image/png": "[encoded data removed]",
      "text/plain": [
       "<Figure size 432x288 with 1 Axes>"
      ]
     },
     "metadata": {
      "needs_background": "light"
     },
     "output_type": "display_data"
    }
   ],
   "source": [
    "plot_class_distribution (df, 'product_type','class', starting_index=0)"
   ]
  },
  {
   "cell_type": "markdown",
   "metadata": {},
   "source": [
    "## The distribution of classes excluding Nan"
   ]
  },
  {
   "cell_type": "code",
   "execution_count": 150,
   "metadata": {},
   "outputs": [
    {
     "data": {
      "image/png": "[encoded data removed]",
      "text/plain": [
       "<Figure size 432x288 with 1 Axes>"
      ]
     },
     "metadata": {
      "needs_background": "light"
     },
     "output_type": "display_data"
    }
   ],
   "source": [
    "plot_class_distribution (df, 'product_type','class', starting_index=1)"
   ]
  },
  {
   "cell_type": "markdown",
   "metadata": {},
   "source": [
    "## Find the most common keywords in product information and label records containg those keywords\n"
   ]
  },
  {
   "cell_type": "markdown",
   "metadata": {},
   "source": [
    "###  1) Define commmon keywords for each category"
   ]
  },
  {
   "cell_type": "code",
   "execution_count": 151,
   "metadata": {},
   "outputs": [],
   "source": [
    "unisexProduct= ['electronics', 'phone','fruit','movie','vegetable', \n",
    "                'seafood','ipad','video','music','book', 'dairy',\n",
    "                'egg', 'fridge', 'phone', 'supplement', 'cable', \n",
    "                'cookware', 'cook', 'novel', 'bike','headphone',\n",
    "               'appliance','battery', 'vitamin','fence', 'garden',\n",
    "                'speaker','camera', 'kitchen', 'radio', 'backpack'\n",
    "                'frozen', 'food', 'household', 'safety', 'skate' ]\n",
    "\n",
    "womanProduct=['jewellery', 'pregnancy', 'make up', 'nail polish', \n",
    "              'eye shadow', 'skirt','Manicure', 'Pedicure'   ]\n",
    "\n",
    "menProduct= ['shave', 'tuxedo', 'tie'] \n",
    "\n",
    "\n",
    "kidProduct=['school', 'disney', 'spider', 'barbie','doll'  ]\n",
    "\n",
    "babyProduct=['Pacifier' ,'Strollers', 'diapers', 'potty', 'walkers',\n",
    "             'playmat',  'Car Seat', 'lip liner', 'Babyliss', 'maternity', \n",
    "             'Teether', 'nursery', 'carrier', 'crib', 'Rattle', 'sleeper']\n",
    "\n",
    "\n",
    "\n",
    "\n",
    "#lemmitize and standardize the all the categories lists\n",
    "unisexProduct=normalize(unisexProduct)\n",
    "unisexProduct=standardize_tokens(unisexProduct)\n",
    "menProduct=normalize(menProduct)\n",
    "menProduct=standardize_tokens(menProduct)\n",
    "womanProduct=normalize(womanProduct)\n",
    "womanProduct=standardize_tokens(womanProduct)\n",
    "kidProduct=normalize(kidProduct)\n",
    "kidProduct=standardize_tokens(kidProduct) \n",
    "babyProduct=normalize(babyProduct)\n",
    "babyProduct=standardize_tokens(babyProduct) \n",
    "\n",
    "all_categories_lists=[unisexProduct,   menProduct ,  womanProduct ,  kidProduct ,  babyProduct]\n"
   ]
  },
  {
   "cell_type": "markdown",
   "metadata": {},
   "source": [
    "### 2) Find most commmon words in product information which are not included in the categories lists"
   ]
  },
  {
   "cell_type": "markdown",
   "metadata": {},
   "source": [
    "####   Let's inspect word and vocabulary of our data set"
   ]
  },
  {
   "cell_type": "code",
   "execution_count": 154,
   "metadata": {},
   "outputs": [
    {
     "name": "stdout",
     "output_type": "stream",
     "text": [
      "11594 words total, with a vocabulary size of 1211\n"
     ]
    }
   ],
   "source": [
    "#combine all rows' tokens  into one list\n",
    "all_words=list([a for b in df['all_tokens'].tolist() for a in b])\n",
    "all_words=list(filter(lambda a: a not in [',', '(', ')', \"'\", '\"'], all_words))\n",
    "\n",
    "\n",
    "VOCAB = sorted(list(set(all_words)))\n",
    "print(\"%s words total, with a vocabulary size of %s\" % (len(all_words), len(VOCAB)))"
   ]
  },
  {
   "cell_type": "code",
   "execution_count": 155,
   "metadata": {},
   "outputs": [
    {
     "name": "stdout",
     "output_type": "stream",
     "text": [
      "orbea, mineral, trace, traceminerals, serrats, bike, research, booja, actiu, omaiki, de, co, vinyl, '', damsel, au, basquefoodhunter, nz, damselindior, earring, supplement, liquid, white, jewellery, mirrormirrorboutique, rail, xsnonline, tuna, innerspacewa, fence, "
     ]
    }
   ],
   "source": [
    "#Find the most frequent words which are not included  categories lists\n",
    "from nltk.probability import FreqDist\n",
    "fdist = FreqDist(all_words)\n",
    "all_keyword_lists=all_categories_lists + manNet+womanNet+babyNet+kidNet+unisexNet\n",
    "for word,number in fdist.most_common(30):\n",
    "    if word not in all_keyword_lists:\n",
    "        print (word, end = ', ')\n",
    "\n",
    "    "
   ]
  },
  {
   "cell_type": "markdown",
   "metadata": {},
   "source": [
    "#### None of these keywords can help us to label more products. so, let's move to  label the records based on our selected common keywords"
   ]
  },
  {
   "cell_type": "markdown",
   "metadata": {},
   "source": [
    "### 3) Label records containg common keywords"
   ]
  },
  {
   "cell_type": "code",
   "execution_count": 161,
   "metadata": {},
   "outputs": [],
   "source": [
    "#find the total frequency of a list of keywords in a tokenized list \n",
    "def count_occurance_keyword ( tokenized_list, category_list ) :\n",
    "        count=0\n",
    "        text_data= ' '.join( tokenized_list)+\" \"\n",
    "        for keyword in category_list:\n",
    "                count = text_data.count(keyword+\" \") \n",
    "        return count     \n",
    "    \n",
    "def findLabel_commonKeywords(dataFrame, feature): \n",
    "    count_unisex = count_occurance_keyword(dataFrame[feature], unisexProduct) \n",
    "    count_men   =  count_occurance_keyword(dataFrame[feature], menProduct) \n",
    "    count_woman  = count_occurance_keyword(dataFrame[feature], womanProduct) \n",
    "    count_kid    = count_occurance_keyword(dataFrame[feature], kidProduct) \n",
    "    count_baby   = count_occurance_keyword(dataFrame[feature], babyProduct) \n",
    "    \n",
    "    index=['unisex', 'men', 'women', 'kid', 'baby']\n",
    "    counters=[count_unisex, count_men, count_woman,count_kid,count_baby]\n",
    "    frequency= pd.Series(counters, index=index)\n",
    "    \n",
    "    # find label with maximum frequency\n",
    "    max_frequency= max(frequency)\n",
    "    max_label= frequency.idxmax() if max_frequency> 0 else '-1' \n",
    "    return max_label\n",
    "\n",
    "\n",
    "#notLabled = df[ df['class'] == '-1' ]  \n",
    "not_labled_index=  df['class'] == '-1' \n",
    "df.loc[not_labled_index, 'class'] = df.loc[not_labled_index,:].apply(findLabel_commonKeywords, axis=1,args=['all_tokens']) \n"
   ]
  },
  {
   "cell_type": "code",
   "execution_count": 162,
   "metadata": {},
   "outputs": [],
   "source": [
    "#Ignore thi line, just to test funstion\n",
    "#count_occurance_keyword(['tie','men', 'baby', 'shaver','shaves', 'tie','shave', 'tiered'], ['tie', 'shave']) "
   ]
  },
  {
   "cell_type": "markdown",
   "metadata": {},
   "source": [
    "#  It seems nothing is labeled in this round?"
   ]
  },
  {
   "cell_type": "code",
   "execution_count": 167,
   "metadata": {},
   "outputs": [
    {
     "data": {
      "text/plain": [
       "0      -1\n",
       "1      -1\n",
       "2      -1\n",
       "3      -1\n",
       "4      -1\n",
       "       ..\n",
       "995    -1\n",
       "996    -1\n",
       "997    -1\n",
       "998    -1\n",
       "999    -1\n",
       "Name: class, Length: 970, dtype: object"
      ]
     },
     "execution_count": 167,
     "metadata": {},
     "output_type": "execute_result"
    }
   ],
   "source": [
    "df.loc[not_labled_index, 'class']"
   ]
  },
  {
   "cell_type": "code",
   "execution_count": 163,
   "metadata": {},
   "outputs": [],
   "source": [
    "#display(  df[ df['class'] != '-1' ].head() )\n"
   ]
  },
  {
   "cell_type": "code",
   "execution_count": 164,
   "metadata": {},
   "outputs": [
    {
     "data": {
      "image/png": "[encoded data removed]",
      "text/plain": [
       "<Figure size 432x288 with 1 Axes>"
      ]
     },
     "metadata": {
      "needs_background": "light"
     },
     "output_type": "display_data"
    }
   ],
   "source": [
    "plot_class_distribution (df, 'product_type','class', starting_index=1)"
   ]
  },
  {
   "cell_type": "code",
   "execution_count": 165,
   "metadata": {},
   "outputs": [
    {
     "name": "stdout",
     "output_type": "stream",
     "text": [
      "-1        970\n",
      "kid        19\n",
      "baby        9\n",
      "women       1\n",
      "unisex      1\n",
      "Name: class, dtype: int64\n"
     ]
    }
   ],
   "source": [
    "\n",
    "print(df['class'].value_counts())"
   ]
  },
  {
   "cell_type": "markdown",
   "metadata": {},
   "source": [
    "# Export Labeled Data"
   ]
  },
  {
   "cell_type": "code",
   "execution_count": 117,
   "metadata": {},
   "outputs": [],
   "source": [
    "df['all_text']= df['all_tokens'].apply(lambda x: \" \".join(x))\n",
    "df.to_csv(\"../data/labeled/labeled_dataV1.csv\", index=True)\n",
    " \n"
   ]
  },
  {
   "cell_type": "markdown",
   "metadata": {},
   "source": [
    "##  Choose some random records that are labeled in this round in order to check the labeling performance"
   ]
  },
  {
   "cell_type": "code",
   "execution_count": 125,
   "metadata": {},
   "outputs": [
    {
     "data": {
      "text/plain": [
       "970"
      ]
     },
     "execution_count": 125,
     "metadata": {},
     "output_type": "execute_result"
    }
   ],
   "source": [
    "df.index.difference(labeled_data.index)\n",
    "# choose records which are not labeled in the first round, but in the second round\n",
    "labeled_data=df[df['class']!= '-1' ].copy()\n",
    "labeled_data=df[df['class']!= '-1' and df.index in unlabeled_data_index  ].copy()\n",
    "unlabeled_data_index=df.index.difference(labeled_data.index)"
   ]
  },
  {
   "cell_type": "code",
   "execution_count": 84,
   "metadata": {},
   "outputs": [
    {
     "ename": "ValueError",
     "evalue": "Sample larger than population or is negative",
     "output_type": "error",
     "traceback": [
      "\u001b[0;31m---------------------------------------------------------------------------\u001b[0m",
      "\u001b[0;31mValueError\u001b[0m                                Traceback (most recent call last)",
      "\u001b[0;32m<ipython-input-84-6f4d1a48d6fd>\u001b[0m in \u001b[0;36m<module>\u001b[0;34m\u001b[0m\n\u001b[1;32m      1\u001b[0m \u001b[0mlabeled_data\u001b[0m\u001b[0;34m=\u001b[0m\u001b[0munlabeled_data\u001b[0m\u001b[0;34m[\u001b[0m\u001b[0munlabeled_data\u001b[0m\u001b[0;34m[\u001b[0m\u001b[0;34m'class'\u001b[0m\u001b[0;34m]\u001b[0m\u001b[0;34m!=\u001b[0m \u001b[0;34m'-1'\u001b[0m\u001b[0;34m]\u001b[0m\u001b[0;34m.\u001b[0m\u001b[0mcopy\u001b[0m\u001b[0;34m(\u001b[0m\u001b[0;34m)\u001b[0m\u001b[0;34m\u001b[0m\u001b[0;34m\u001b[0m\u001b[0m\n\u001b[1;32m      2\u001b[0m \u001b[0munlabeled_data\u001b[0m\u001b[0;34m=\u001b[0m\u001b[0mdf\u001b[0m\u001b[0;34m[\u001b[0m\u001b[0mdf\u001b[0m\u001b[0;34m[\u001b[0m\u001b[0;34m'class'\u001b[0m\u001b[0;34m]\u001b[0m\u001b[0;34m==\u001b[0m \u001b[0;34m'-1'\u001b[0m\u001b[0;34m]\u001b[0m\u001b[0;34m.\u001b[0m\u001b[0mcopy\u001b[0m\u001b[0;34m(\u001b[0m\u001b[0;34m)\u001b[0m\u001b[0;34m\u001b[0m\u001b[0;34m\u001b[0m\u001b[0m\n\u001b[0;32m----> 3\u001b[0;31m \u001b[0mrandom_records\u001b[0m\u001b[0;34m=\u001b[0m\u001b[0mrandom\u001b[0m\u001b[0;34m.\u001b[0m\u001b[0msample\u001b[0m\u001b[0;34m(\u001b[0m\u001b[0mlabeled_data\u001b[0m\u001b[0;34m.\u001b[0m\u001b[0mindex\u001b[0m\u001b[0;34m.\u001b[0m\u001b[0mto_list\u001b[0m\u001b[0;34m(\u001b[0m\u001b[0;34m)\u001b[0m\u001b[0;34m,\u001b[0m \u001b[0mk\u001b[0m\u001b[0;34m=\u001b[0m\u001b[0;36m10\u001b[0m\u001b[0;34m)\u001b[0m\u001b[0;34m\u001b[0m\u001b[0;34m\u001b[0m\u001b[0m\n\u001b[0m\u001b[1;32m      4\u001b[0m \u001b[0mtest\u001b[0m\u001b[0;34m=\u001b[0m\u001b[0mlabeled_data\u001b[0m\u001b[0;34m.\u001b[0m\u001b[0mloc\u001b[0m\u001b[0;34m[\u001b[0m\u001b[0mrandom_records\u001b[0m\u001b[0;34m,\u001b[0m \u001b[0;34m[\u001b[0m\u001b[0;34m'class'\u001b[0m\u001b[0;34m,\u001b[0m\u001b[0;34m'product_type'\u001b[0m\u001b[0;34m,\u001b[0m\u001b[0;34m'full_store_product_url'\u001b[0m \u001b[0;34m,\u001b[0m\u001b[0;34m'all_text_original'\u001b[0m\u001b[0;34m]\u001b[0m\u001b[0;34m]\u001b[0m\u001b[0;34m\u001b[0m\u001b[0;34m\u001b[0m\u001b[0m\n\u001b[1;32m      5\u001b[0m \u001b[0mtest\u001b[0m\u001b[0;34m.\u001b[0m\u001b[0mto_csv\u001b[0m\u001b[0;34m(\u001b[0m\u001b[0;34m\"../data/validate/test_random_labeled_data_Round2.csv\"\u001b[0m\u001b[0;34m,\u001b[0m \u001b[0mindex\u001b[0m\u001b[0;34m=\u001b[0m\u001b[0;32mTrue\u001b[0m\u001b[0;34m)\u001b[0m\u001b[0;34m\u001b[0m\u001b[0;34m\u001b[0m\u001b[0m\n",
      "\u001b[0;32m~/opt/anaconda3/envs/insight/lib/python3.7/random.py\u001b[0m in \u001b[0;36msample\u001b[0;34m(self, population, k)\u001b[0m\n\u001b[1;32m    319\u001b[0m         \u001b[0mn\u001b[0m \u001b[0;34m=\u001b[0m \u001b[0mlen\u001b[0m\u001b[0;34m(\u001b[0m\u001b[0mpopulation\u001b[0m\u001b[0;34m)\u001b[0m\u001b[0;34m\u001b[0m\u001b[0;34m\u001b[0m\u001b[0m\n\u001b[1;32m    320\u001b[0m         \u001b[0;32mif\u001b[0m \u001b[0;32mnot\u001b[0m \u001b[0;36m0\u001b[0m \u001b[0;34m<=\u001b[0m \u001b[0mk\u001b[0m \u001b[0;34m<=\u001b[0m \u001b[0mn\u001b[0m\u001b[0;34m:\u001b[0m\u001b[0;34m\u001b[0m\u001b[0;34m\u001b[0m\u001b[0m\n\u001b[0;32m--> 321\u001b[0;31m             \u001b[0;32mraise\u001b[0m \u001b[0mValueError\u001b[0m\u001b[0;34m(\u001b[0m\u001b[0;34m\"Sample larger than population or is negative\"\u001b[0m\u001b[0;34m)\u001b[0m\u001b[0;34m\u001b[0m\u001b[0;34m\u001b[0m\u001b[0m\n\u001b[0m\u001b[1;32m    322\u001b[0m         \u001b[0mresult\u001b[0m \u001b[0;34m=\u001b[0m \u001b[0;34m[\u001b[0m\u001b[0;32mNone\u001b[0m\u001b[0;34m]\u001b[0m \u001b[0;34m*\u001b[0m \u001b[0mk\u001b[0m\u001b[0;34m\u001b[0m\u001b[0;34m\u001b[0m\u001b[0m\n\u001b[1;32m    323\u001b[0m         \u001b[0msetsize\u001b[0m \u001b[0;34m=\u001b[0m \u001b[0;36m21\u001b[0m        \u001b[0;31m# size of a small set minus size of an empty list\u001b[0m\u001b[0;34m\u001b[0m\u001b[0;34m\u001b[0m\u001b[0m\n",
      "\u001b[0;31mValueError\u001b[0m: Sample larger than population or is negative"
     ]
    }
   ],
   "source": [
    "labeled_data=unlabeled_data[unlabeled_data['class']!= '-1'].copy()\n",
    "unlabeled_data_index=df.index.difference(labeled_data.index)\n",
    "random_records=random.sample(labeled_data.index.to_list(), k=10) \n",
    "test=labeled_data.loc[random_records, ['class','product_type','full_store_product_url' ,'all_text_original']]\n",
    "test.to_csv(\"../data/validate/test_random_labeled_data_Round2.csv\", index=True)"
   ]
  },
  {
   "cell_type": "code",
   "execution_count": null,
   "metadata": {},
   "outputs": [],
   "source": [
    "\n",
    "print(\"Number of records labeled in round 2:\",labeled_data.shape[0])\n",
    "print(\"Number of records not labeled yet:\",unlabeled_data.shape[0])"
   ]
  },
  {
   "cell_type": "code",
   "execution_count": 89,
   "metadata": {},
   "outputs": [
    {
     "data": {
      "text/plain": [
       "0         False\n",
       "1         False\n",
       "2         False\n",
       "3         False\n",
       "4         False\n",
       "          ...  \n",
       "499995    False\n",
       "499996    False\n",
       "499997    False\n",
       "499998    False\n",
       "499999    False\n",
       "Name: class, Length: 438708, dtype: bool"
      ]
     },
     "execution_count": 89,
     "metadata": {},
     "output_type": "execute_result"
    }
   ],
   "source": [
    " unlabeled_data['class']!= '-1'"
   ]
  },
  {
   "cell_type": "markdown",
   "metadata": {},
   "source": [
    "## Labeling more records based on vendor names\n",
    "\n",
    "If products from a vendor all belong to one particular category (given that at least 10 products are listed), we can assign that category to other products from the same vendor"
   ]
  },
  {
   "cell_type": "code",
   "execution_count": null,
   "metadata": {},
   "outputs": [],
   "source": [
    "#pivot_ui(labeled_data )"
   ]
  },
  {
   "cell_type": "code",
   "execution_count": null,
   "metadata": {},
   "outputs": [],
   "source": [
    "homo_brands= {}\n",
    "\n",
    "grouped  = labeled_data.groupby(['vendor_name_original'])\n",
    "for key, group in grouped:\n",
    "   class_group = grouped.get_group(key).groupby(['class']) \n",
    "   #print(key, len(class_group ), class_group['class'].count() )\n",
    "   # if all products belong to one category\n",
    "   if len(class_group)==1:\n",
    "      # If at least 10 products are listed for a company\n",
    "      if  (class_group['class'].count()[0]) > 10 :\n",
    "         homo_brands[key]= list(class_group.groups.keys())[0]\n",
    "\n",
    "print(homo_brands)"
   ]
  },
  {
   "cell_type": "code",
   "execution_count": null,
   "metadata": {},
   "outputs": [],
   "source": [
    "homo_vendor_bool=  df['vendor_name_original'].apply( lambda x: x in list(homo_brands.keys())) \n",
    "not_labled_bool=   df['class'] == '-1'\n",
    "#records which are not labeled yet and belong to homo vendor\n",
    "homo_notLabeld_bool=np.logical_and(not_labled_bool, homo_vendor_bool)\n",
    "homo_notLabeld_index= df[homo_notLabeld_bool].index\n",
    "\n",
    "pd.DataFrame({'homo_vendor': homo_vendor_bool, 'not_labled_bool': not_labled_bool,'homo_notLabeld_bool':homo_notLabeld_bool  })\n",
    "display(df) "
   ]
  },
  {
   "cell_type": "code",
   "execution_count": null,
   "metadata": {},
   "outputs": [],
   "source": [
    "print(\"not labeled \\n\",df[not_labled_bool].index)\n",
    "print(\"homo \\n\",df[homo_vendor_bool].index)\n",
    "print(\"homo and notlabeled \\n\",df[homo_notLabeld_bool].index)\n"
   ]
  },
  {
   "cell_type": "code",
   "execution_count": null,
   "metadata": {},
   "outputs": [],
   "source": [
    "print(df['class'].value_counts())\n",
    "\n",
    "def get_homo_class ( x ):\n",
    "    vendor=x['vendor_name_original']\n",
    "    #print(vendor, homo_brands[vendor])\n",
    "    return homo_brands[vendor]\n",
    "    \n",
    "df.loc[homo_notLabeld_index, 'class'] = df.loc[homo_notLabeld_index,:].apply(get_homo_class, axis=1)\n",
    "print(df['class'].value_counts())\n",
    "display(df)"
   ]
  },
  {
   "cell_type": "markdown",
   "metadata": {},
   "source": [
    "# Export Labeled Data"
   ]
  },
  {
   "cell_type": "code",
   "execution_count": null,
   "metadata": {},
   "outputs": [],
   "source": [
    "df['all_text']= df['all_tokens'].apply(lambda x: \" \".join(x))\n",
    "df.to_csv(\"../data/labeled/labeled_dataV2.csv\", index=True)\n",
    " \n"
   ]
  },
  {
   "cell_type": "code",
   "execution_count": null,
   "metadata": {},
   "outputs": [],
   "source": [
    "display(labeled_data.head())"
   ]
  },
  {
   "cell_type": "markdown",
   "metadata": {},
   "source": [
    "##  Choose some random records that are labeled in thi round in order to check the labeling performance"
   ]
  },
  {
   "cell_type": "code",
   "execution_count": null,
   "metadata": {},
   "outputs": [],
   "source": [
    "labeled_data=unlabeled_data[unlabeled_data['class']!= '-1'].copy()\n",
    "unlabeled_data=df[df['class']== '-1'].copy()\n",
    "random_records=random.sample(labeled_data.index.to_list(), k=40) \n",
    "test=labeled_data.loc[random_records, ['class','product_type','full_store_product_url' ,'all_text_original']]\n",
    "test.to_csv(\"../data/validate/test_random_labeled_data_Round3.csv\", index=True)"
   ]
  },
  {
   "cell_type": "code",
   "execution_count": null,
   "metadata": {},
   "outputs": [],
   "source": []
  },
  {
   "cell_type": "code",
   "execution_count": null,
   "metadata": {},
   "outputs": [],
   "source": [
    "#Note\n",
    "#https://touchdolls.com/ is for ladies not kids\n",
    "#tying lemm -> tie"
   ]
  }
 ],
 "metadata": {
  "kernelspec": {
   "display_name": "Python [conda env:insight]",
   "language": "python",
   "name": "conda-env-insight-py"
  },
  "language_info": {
   "codemirror_mode": {
    "name": "ipython",
    "version": 3
   },
   "file_extension": ".py",
   "mimetype": "text/x-python",
   "name": "python",
   "nbconvert_exporter": "python",
   "pygments_lexer": "ipython3",
   "version": "3.7.7"
  }
 },
 "nbformat": 4,
 "nbformat_minor": 4
}
