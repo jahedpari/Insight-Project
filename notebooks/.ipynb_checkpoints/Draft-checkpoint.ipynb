{
 "cells": [
  {
   "cell_type": "code",
   "execution_count": 2,
   "metadata": {},
   "outputs": [
    {
     "data": {
      "text/plain": [
       "0"
      ]
     },
     "execution_count": 2,
     "metadata": {},
     "output_type": "execute_result"
    }
   ],
   "source": [
    "#import keras\n",
    "import nltk\n",
    "import pandas as pd\n",
    "import numpy as np\n",
    "import codecs\n",
    "import gc\n",
    "from nltk.corpus import wordnet\n",
    "\n",
    "gc.collect()"
   ]
  },
  {
   "cell_type": "code",
   "execution_count": null,
   "metadata": {},
   "outputs": [],
   "source": [
    "### H"
   ]
  },
  {
   "cell_type": "code",
   "execution_count": 2,
   "metadata": {},
   "outputs": [
    {
     "name": "stdout",
     "output_type": "stream",
     "text": [
      "Collecting pivottablejs\n",
      "  Downloading pivottablejs-0.9.0-py2.py3-none-any.whl (4.7 kB)\n",
      "Installing collected packages: pivottablejs\n",
      "Successfully installed pivottablejs-0.9.0\n",
      "Note: you may need to restart the kernel to use updated packages.\n"
     ]
    }
   ],
   "source": [
    "pip install pivottablejs"
   ]
  },
  {
   "cell_type": "code",
   "execution_count": 4,
   "metadata": {},
   "outputs": [],
   "source": [
    "#import keras\n",
    "import nltk\n",
    "import pandas as pd\n",
    "import numpy as np\n",
    "import re\n",
    "import codecs\n",
    "import gc\n",
    "from nltk.corpus import wordnet"
   ]
  },
  {
   "cell_type": "code",
   "execution_count": 5,
   "metadata": {},
   "outputs": [],
   "source": [
    "inputFile=\"../data/cleaned/outputFile 0-500000.csv\"\n",
    "df = pd.read_csv(inputFile)\n",
    "df = df.drop(['id'], axis=1)\n",
    "#df['class']= np.nan\n",
    "df=df[1:10000]"
   ]
  },
  {
   "cell_type": "code",
   "execution_count": 6,
   "metadata": {},
   "outputs": [],
   "source": [
    "df=df[1:10000]"
   ]
  },
  {
   "cell_type": "markdown",
   "metadata": {},
   "source": [
    "###### import pandas as pd\n",
    "import ma  dgag tplotlib.p  dgag yplot as plt\n",
    "import seaborn as sns\n",
    "import os\n",
    "from pivottablejsergimpdgag rt pivot_ui\n",
    "import sys  dgag \n",
    "import warnings"
   ]
  },
  {
   "cell_type": "code",
   "execution_count": 8,
   "metadata": {},
   "outputs": [
    {
     "data": {
      "text/html": [
       "<div>\n",
       "<style scoped>\n",
       "    .dataframe tbody tr th:only-of-type {\n",
       "        vertical-align: middle;\n",
       "    }\n",
       "\n",
       "    .dataframe tbody tr th {\n",
       "        vertical-align: top;\n",
       "    }\n",
       "\n",
       "    .dataframe thead th {\n",
       "        text-align: right;\n",
       "    }\n",
       "</style>\n",
       "<table border=\"1\" class=\"dataframe\">\n",
       "  <thead>\n",
       "    <tr style=\"text-align: right;\">\n",
       "      <th></th>\n",
       "      <th>product_type</th>\n",
       "      <th>vendor_name</th>\n",
       "      <th>title</th>\n",
       "      <th>store_domain</th>\n",
       "      <th>description</th>\n",
       "    </tr>\n",
       "  </thead>\n",
       "  <tbody>\n",
       "    <tr>\n",
       "      <th>1</th>\n",
       "      <td>Cookware</td>\n",
       "      <td>Hestan</td>\n",
       "      <td>Hestan Nanobond Titanium Stockpot 8-Quart</td>\n",
       "      <td>atlantagrillcompany.com</td>\n",
       "      <td>NaN</td>\n",
       "    </tr>\n",
       "    <tr>\n",
       "      <th>2</th>\n",
       "      <td>Skillets</td>\n",
       "      <td>Hestan</td>\n",
       "      <td>Hestan Nanobond 8.5\" Open Skillet</td>\n",
       "      <td>dasallas.com</td>\n",
       "      <td>NaN</td>\n",
       "    </tr>\n",
       "    <tr>\n",
       "      <th>3</th>\n",
       "      <td>Saucepans &amp; Sauciers</td>\n",
       "      <td>Hestan</td>\n",
       "      <td>Hestan Nanobond 5-Quart Covered Essential Pan ...</td>\n",
       "      <td>dasallas.com</td>\n",
       "      <td>NaN</td>\n",
       "    </tr>\n",
       "    <tr>\n",
       "      <th>4</th>\n",
       "      <td>Cookware</td>\n",
       "      <td>Hestan</td>\n",
       "      <td>Hestan ProBond Forged Stainless Steel Ultimate...</td>\n",
       "      <td>atlantagrillcompany.com</td>\n",
       "      <td>NaN</td>\n",
       "    </tr>\n",
       "    <tr>\n",
       "      <th>5</th>\n",
       "      <td>Cookware</td>\n",
       "      <td>Hestan</td>\n",
       "      <td>Hestan ProBond Forged Stainless Steel Essentia...</td>\n",
       "      <td>atlantagrillcompany.com</td>\n",
       "      <td>NaN</td>\n",
       "    </tr>\n",
       "  </tbody>\n",
       "</table>\n",
       "</div>"
      ],
      "text/plain": [
       "           product_type vendor_name  \\\n",
       "1              Cookware      Hestan   \n",
       "2              Skillets      Hestan   \n",
       "3  Saucepans & Sauciers      Hestan   \n",
       "4              Cookware      Hestan   \n",
       "5              Cookware      Hestan   \n",
       "\n",
       "                                               title             store_domain  \\\n",
       "1          Hestan Nanobond Titanium Stockpot 8-Quart  atlantagrillcompany.com   \n",
       "2                  Hestan Nanobond 8.5\" Open Skillet             dasallas.com   \n",
       "3  Hestan Nanobond 5-Quart Covered Essential Pan ...             dasallas.com   \n",
       "4  Hestan ProBond Forged Stainless Steel Ultimate...  atlantagrillcompany.com   \n",
       "5  Hestan ProBond Forged Stainless Steel Essentia...  atlantagrillcompany.com   \n",
       "\n",
       "   description  \n",
       "1          NaN  \n",
       "2          NaN  \n",
       "3          NaN  \n",
       "4          NaN  \n",
       "5          NaN  "
      ]
     },
     "execution_count": 8,
     "metadata": {},
     "output_type": "execute_result"
    }
   ],
   "source": [
    "df.head()\n"
   ]
  },
  {
   "cell_type": "code",
   "execution_count": 9,
   "metadata": {},
   "outputs": [
    {
     "data": {
      "text/html": [
       "\n",
       "        <iframe\n",
       "            width=\"100%\"\n",
       "            height=\"500\"\n",
       "            src=\"pivottablejs.html\"\n",
       "            frameborder=\"0\"\n",
       "            allowfullscreen\n",
       "        ></iframe>\n",
       "        "
      ],
      "text/plain": [
       "<IPython.lib.display.IFrame at 0x1a1ce495d0>"
      ]
     },
     "execution_count": 9,
     "metadata": {},
     "output_type": "execute_result"
    }
   ],
   "source": [
    "\n",
    "pivot_ui(df)"
   ]
  },
  {
   "cell_type": "code",
   "execution_count": null,
   "metadata": {},
   "outputs": [],
   "source": [
    "np.linspace?÷÷?/"
   ]
  },
  {
   "cell_type": "code",
   "execution_count": 10,
   "metadata": {},
   "outputs": [
    {
     "data": {
      "text/plain": [
       "{'TERM_PROGRAM': 'Apple_Terminal',\n",
       " 'TERM': 'xterm-color',\n",
       " 'SHELL': '/bin/bash',\n",
       " 'TMPDIR': '/var/folders/9w/4v8323v51bvfv8zv6z_z8pt40000gn/T/',\n",
       " 'CONDA_SHLVL': '2',\n",
       " 'TERM_PROGRAM_VERSION': '433',\n",
       " 'CONDA_PROMPT_MODIFIER': '(insight) ',\n",
       " 'TERM_SESSION_ID': 'DA0E370A-2A85-4A21-AE90-535F1BA2BE1B',\n",
       " 'USER': 'fatemehjahedpari',\n",
       " 'CONDA_EXE': '/Users/fatemehjahedpari/opt/anaconda3/bin/conda',\n",
       " 'SSH_AUTH_SOCK': '/private/tmp/com.apple.launchd.8wt7MlkATM/Listeners',\n",
       " 'KERNEL_LAUNCH_TIMEOUT': '40',\n",
       " 'JPY_PARENT_PID': '2452',\n",
       " '_CE_CONDA': '',\n",
       " 'CONDA_PREFIX_1': '/Users/fatemehjahedpari/opt/anaconda3',\n",
       " 'PATH': '/Users/fatemehjahedpari/opt/anaconda3/envs/insight/bin:/Users/fatemehjahedpari/opt/anaconda3/condabin:/Library/Frameworks/Python.framework/Versions/3.8/bin:/Library/Frameworks/Python.framework/Versions/3.8/bin:/Library/Frameworks/Python.framework/Versions/2.7/bin:/usr/local/bin:/usr/bin:/bin:/usr/sbin:/sbin:/opt/X11/bin:/Applications/Postgres.app/Contents/Versions/latest/bin',\n",
       " 'LaunchInstanceID': '25AC147F-7145-453C-9E29-E818AADEF38B',\n",
       " 'CONDA_PREFIX': '/Users/fatemehjahedpari/opt/anaconda3/envs/insight',\n",
       " 'PWD': '/Users/fatemehjahedpari/Documents/Insight-Projects/notebooks',\n",
       " 'XPC_FLAGS': '0x0',\n",
       " 'XPC_SERVICE_NAME': '0',\n",
       " '_CE_M': '',\n",
       " 'HOME': '/Users/fatemehjahedpari',\n",
       " 'SHLVL': '1',\n",
       " 'LOGNAME': 'fatemehjahedpari',\n",
       " 'CONDA_PYTHON_EXE': '/Users/fatemehjahedpari/opt/anaconda3/bin/python',\n",
       " 'LC_CTYPE': 'UTF-8',\n",
       " 'CONDA_DEFAULT_ENV': 'insight',\n",
       " 'SECURITYSESSIONID': '186a6',\n",
       " 'CLICOLOR': '1',\n",
       " 'PAGER': 'cat',\n",
       " 'GIT_PAGER': 'cat',\n",
       " 'MPLBACKEND': 'module://ipykernel.pylab.backend_inline',\n",
       " 'KMP_DUPLICATE_LIB_OK': 'True',\n",
       " 'KMP_INIT_AT_FORK': 'FALSE'}"
      ]
     },
     "execution_count": 10,
     "metadata": {},
     "output_type": "execute_result"
    }
   ],
   "source": [
    "%env"
   ]
  },
  {
   "cell_type": "code",
   "execution_count": 11,
   "metadata": {},
   "outputs": [
    {
     "name": "stdout",
     "output_type": "stream",
     "text": [
      "/Users/fatemehjahedpari/Documents/Insight-Projects/notebooks\r\n"
     ]
    }
   ],
   "source": [
    "!pwd"
   ]
  },
  {
   "cell_type": "code",
   "execution_count": 12,
   "metadata": {},
   "outputs": [],
   "source": [
    "a=3\n"
   ]
  },
  {
   "cell_type": "code",
   "execution_count": 13,
   "metadata": {},
   "outputs": [
    {
     "data": {
      "text/plain": [
       "{'TERM_PROGRAM': 'Apple_Terminal',\n",
       " 'TERM': 'xterm-color',\n",
       " 'SHELL': '/bin/bash',\n",
       " 'TMPDIR': '/var/folders/9w/4v8323v51bvfv8zv6z_z8pt40000gn/T/',\n",
       " 'CONDA_SHLVL': '2',\n",
       " 'TERM_PROGRAM_VERSION': '433',\n",
       " 'CONDA_PROMPT_MODIFIER': '(insight) ',\n",
       " 'TERM_SESSION_ID': 'DA0E370A-2A85-4A21-AE90-535F1BA2BE1B',\n",
       " 'USER': 'fatemehjahedpari',\n",
       " 'CONDA_EXE': '/Users/fatemehjahedpari/opt/anaconda3/bin/conda',\n",
       " 'SSH_AUTH_SOCK': '/private/tmp/com.apple.launchd.8wt7MlkATM/Listeners',\n",
       " 'KERNEL_LAUNCH_TIMEOUT': '40',\n",
       " 'JPY_PARENT_PID': '2452',\n",
       " '_CE_CONDA': '',\n",
       " 'CONDA_PREFIX_1': '/Users/fatemehjahedpari/opt/anaconda3',\n",
       " 'PATH': '/Users/fatemehjahedpari/opt/anaconda3/envs/insight/bin:/Users/fatemehjahedpari/opt/anaconda3/condabin:/Library/Frameworks/Python.framework/Versions/3.8/bin:/Library/Frameworks/Python.framework/Versions/3.8/bin:/Library/Frameworks/Python.framework/Versions/2.7/bin:/usr/local/bin:/usr/bin:/bin:/usr/sbin:/sbin:/opt/X11/bin:/Applications/Postgres.app/Contents/Versions/latest/bin',\n",
       " 'LaunchInstanceID': '25AC147F-7145-453C-9E29-E818AADEF38B',\n",
       " 'CONDA_PREFIX': '/Users/fatemehjahedpari/opt/anaconda3/envs/insight',\n",
       " 'PWD': '/Users/fatemehjahedpari/Documents/Insight-Projects/notebooks',\n",
       " 'XPC_FLAGS': '0x0',\n",
       " 'XPC_SERVICE_NAME': '0',\n",
       " '_CE_M': '',\n",
       " 'HOME': '/Users/fatemehjahedpari',\n",
       " 'SHLVL': '1',\n",
       " 'LOGNAME': 'fatemehjahedpari',\n",
       " 'CONDA_PYTHON_EXE': '/Users/fatemehjahedpari/opt/anaconda3/bin/python',\n",
       " 'LC_CTYPE': 'UTF-8',\n",
       " 'CONDA_DEFAULT_ENV': 'insight',\n",
       " 'SECURITYSESSIONID': '186a6',\n",
       " 'CLICOLOR': '1',\n",
       " 'PAGER': 'cat',\n",
       " 'GIT_PAGER': 'cat',\n",
       " 'MPLBACKEND': 'module://ipykernel.pylab.backend_inline',\n",
       " 'KMP_DUPLICATE_LIB_OK': 'True',\n",
       " 'KMP_INIT_AT_FORK': 'FALSE'}"
      ]
     },
     "execution_count": 13,
     "metadata": {},
     "output_type": "execute_result"
    }
   ],
   "source": [
    "_\n"
   ]
  },
  {
   "cell_type": "code",
   "execution_count": 14,
   "metadata": {},
   "outputs": [
    {
     "data": {
      "text/plain": [
       "3"
      ]
     },
     "execution_count": 14,
     "metadata": {},
     "output_type": "execute_result"
    }
   ],
   "source": [
    "a"
   ]
  },
  {
   "cell_type": "code",
   "execution_count": 15,
   "metadata": {},
   "outputs": [
    {
     "data": {
      "text/plain": [
       "3"
      ]
     },
     "execution_count": 15,
     "metadata": {},
     "output_type": "execute_result"
    }
   ],
   "source": [
    "_"
   ]
  },
  {
   "cell_type": "code",
   "execution_count": 16,
   "metadata": {},
   "outputs": [
    {
     "ename": "NameError",
     "evalue": "name '_55' is not defined",
     "output_type": "error",
     "traceback": [
      "\u001b[0;31m---------------------------------------------------------------------------\u001b[0m",
      "\u001b[0;31mNameError\u001b[0m                                 Traceback (most recent call last)",
      "\u001b[0;32m<ipython-input-16-a94c68fc63a9>\u001b[0m in \u001b[0;36m<module>\u001b[0;34m\u001b[0m\n\u001b[0;32m----> 1\u001b[0;31m \u001b[0m_55\u001b[0m\u001b[0;34m\u001b[0m\u001b[0;34m\u001b[0m\u001b[0m\n\u001b[0m",
      "\u001b[0;31mNameError\u001b[0m: name '_55' is not defined"
     ]
    }
   ],
   "source": [
    "_55"
   ]
  },
  {
   "cell_type": "code",
   "execution_count": 17,
   "metadata": {},
   "outputs": [
    {
     "name": "stdout",
     "output_type": "stream",
     "text": [
      "\u001b[34mArchive\u001b[m\u001b[m                    Untitled.ipynb\r\n",
      "\u001b[34mArchive output\u001b[m\u001b[m             \u001b[34mfigures\u001b[m\u001b[m\r\n",
      "Explanatory-Analysis.ipynb pivottablejs.html\r\n",
      "Labeled-50000.csv\r\n"
     ]
    }
   ],
   "source": [
    "!ls\n"
   ]
  },
  {
   "cell_type": "code",
   "execution_count": 18,
   "metadata": {},
   "outputs": [
    {
     "name": "stdout",
     "output_type": "stream",
     "text": [
      "\u001b[34mArchive\u001b[m\u001b[m/                    Untitled.ipynb\r\n",
      "\u001b[34mArchive output\u001b[m\u001b[m/             \u001b[34mfigures\u001b[m\u001b[m/\r\n",
      "Explanatory-Analysis.ipynb  pivottablejs.html\r\n",
      "Labeled-50000.csv\r\n"
     ]
    }
   ],
   "source": [
    "ls"
   ]
  },
  {
   "cell_type": "code",
   "execution_count": 19,
   "metadata": {},
   "outputs": [],
   "source": [
    "tailthing = \"*.ipynb\""
   ]
  },
  {
   "cell_type": "code",
   "execution_count": 20,
   "metadata": {},
   "outputs": [
    {
     "data": {
      "text/plain": [
       "'*.ipynb'"
      ]
     },
     "execution_count": 20,
     "metadata": {},
     "output_type": "execute_result"
    }
   ],
   "source": [
    "tailthing"
   ]
  },
  {
   "cell_type": "code",
   "execution_count": 21,
   "metadata": {},
   "outputs": [
    {
     "name": "stdout",
     "output_type": "stream",
     "text": [
      "Explanatory-Analysis.ipynb Untitled.ipynb\r\n"
     ]
    }
   ],
   "source": [
    "!ls {tailthing}"
   ]
  },
  {
   "cell_type": "code",
   "execution_count": 22,
   "metadata": {},
   "outputs": [],
   "source": [
    "def silly_function(xval):\n",
    "    \"\"\"Takes a value and returns the value.\"\"\"\n",
    "    xval_sq = xval ** 2.0\n",
    "    3 + 15\n",
    "    xval_abs = np.sqrt(xval_sq)\n",
    "    return xval_abs"
   ]
  },
  {
   "cell_type": "code",
   "execution_count": 23,
   "metadata": {},
   "outputs": [
    {
     "data": {
      "text/plain": [
       "2.0"
      ]
     },
     "execution_count": 23,
     "metadata": {},
     "output_type": "execute_result"
    }
   ],
   "source": [
    "silly_function(-2,)"
   ]
  },
  {
   "cell_type": "code",
   "execution_count": 25,
   "metadata": {},
   "outputs": [],
   "source": [
    "\n",
    "silly_function??"
   ]
  },
  {
   "cell_type": "code",
   "execution_count": 26,
   "metadata": {},
   "outputs": [
    {
     "name": "stdout",
     "output_type": "stream",
     "text": [
      "README.md \u001b[34mcleaned\u001b[m\u001b[m   \u001b[34mprocessed\u001b[m\u001b[m \u001b[34mraw\u001b[m\u001b[m\r\n"
     ]
    }
   ],
   "source": [
    "!ls ../data/"
   ]
  },
  {
   "cell_type": "code",
   "execution_count": null,
   "metadata": {},
   "outputs": [],
   "source": [
    "#[a for b in df['product_type'].tolist() for a in b]\n",
    "\n",
    "df['all_tokens'].apply(lambda x: [item for item in x  ])"
   ]
  },
  {
   "cell_type": "code",
   "execution_count": null,
   "metadata": {},
   "outputs": [],
   "source": [
    "#count occurence of keyword in the list\n",
    "def countFreq (textList, keywordList):\n",
    "    for item in textList:\n",
    "        count= keywordList.count(item)\n",
    "        if count>0 :\n",
    "          print(count, \": \\t\", textList)\n",
    "   \n",
    "\n",
    "#df['all_text'].apply(countFreq,keywordList=unisexNet)   \n",
    "#df['all_text'].apply(countFreq,keywordList=manNet) \n",
    "#df['all_text'].apply(countFreq,keywordList=womanNet)  \n",
    "#df['all_text'].apply(countFreq,keywordList=babyNet)  \n",
    "#df['all_text'].apply(countFreq,keywordList=kidNet)"
   ]
  },
  {
   "cell_type": "markdown",
   "metadata": {},
   "source": [
    "# Occurences of keyword in the product information\n",
    "\n",
    "It only shows the occurences of keyword in the product information, which can be repeated in one product\n",
    "the next step is to see count the products with a label"
   ]
  },
  {
   "cell_type": "code",
   "execution_count": null,
   "metadata": {},
   "outputs": [],
   "source": [
    "import numpy as np \n",
    "import matplotlib.pyplot as plt  \n",
    "\n",
    "\n",
    "categories = df.columns[6:11].tolist()\n",
    "values = df.iloc[:, 6:11 ].sum()   \n",
    "   \n",
    "fig = plt.figure(figsize = (10, 5)) \n",
    "# creating the bar plot \n",
    "plt.bar(categories, values, color ='blue') \n",
    "  \n",
    "plt.xlabel(\"Categories\") \n",
    "plt.ylabel(\"Count \") \n",
    "plt.title(\"Occurences of keyword in the product information\") \n",
    "plt.show() "
   ]
  },
  {
   "cell_type": "code",
   "execution_count": null,
   "metadata": {},
   "outputs": [],
   "source": [
    "values= grouped['product_type'].agg(np.size) \n",
    "labels = values.index   \n",
    "\n",
    "print(labels)"
   ]
  },
  {
   "cell_type": "code",
   "execution_count": null,
   "metadata": {},
   "outputs": [],
   "source": [
    "    #lemmitize the all the categories lists\n",
    "for i in  range (0, len(all_categories_lists)):\n",
    "     alist=all_categories_lists[i]\n",
    "     alist=normalize(alist)\n",
    "     alist=standardize_tokens (alist)\n",
    "        \n",
    "        "
   ]
  },
  {
   "cell_type": "markdown",
   "metadata": {},
   "source": [
    "# histogarm"
   ]
  },
  {
   "cell_type": "code",
   "execution_count": null,
   "metadata": {},
   "outputs": [],
   "source": [
    "import matplotlib.pyplot as plt\n",
    "\n",
    "fig = plt.figure(figsize=(10, 10)) \n",
    "plt.xlabel('Sentence length')\n",
    "plt.ylabel('Number of sentences')\n",
    "plt.hist(sentence_lengths)\n",
    "plt.show()"
   ]
  },
  {
   "cell_type": "code",
   "execution_count": null,
   "metadata": {},
   "outputs": [],
   "source": [
    "labeled_data.groupby(\"class\").count()\n",
    "\n",
    "Sentiment_count=labeled_data.groupby('class').count()"
   ]
  },
  {
   "cell_type": "code",
   "execution_count": null,
   "metadata": {},
   "outputs": [],
   "source": [
    "from keras.preprocessing.text import Tokenizer\n",
    "from keras.preprocessing.sequence import pad_sequences\n",
    "from keras.utils import to_categorical\n",
    "\n",
    "all_words = [word for tokens in labeled_data[\"all_tokens\"] for word in tokens]\n",
    "sentence_lengths = [len(tokens) for tokens in labeled_data[\"all_tokens\"]]\n",
    "VOCAB = sorted(list(set(all_words)))\n",
    "print(\"%s words total, with a vocabulary size of %s\" % (len(all_words), len(VOCAB)))\n",
    "print(\"Max sentence length is %s\" % max(sentence_lengths))"
   ]
  }
 ],
 "metadata": {
  "kernelspec": {
   "display_name": "Python [conda env:insight] *",
   "language": "python",
   "name": "conda-env-insight-py"
  },
  "language_info": {
   "codemirror_mode": {
    "name": "ipython",
    "version": 3
   },
   "file_extension": ".py",
   "mimetype": "text/x-python",
   "name": "python",
   "nbconvert_exporter": "python",
   "pygments_lexer": "ipython3",
   "version": "3.7.7"
  }
 },
 "nbformat": 4,
 "nbformat_minor": 4
}
