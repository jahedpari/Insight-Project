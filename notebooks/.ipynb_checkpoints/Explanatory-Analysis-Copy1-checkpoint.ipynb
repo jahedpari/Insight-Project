{
 "cells": [
  {
   "cell_type": "code",
   "execution_count": 6,
   "metadata": {},
   "outputs": [],
   "source": [
    "#import keras\n",
    "import nltk\n",
    "import pandas as pd\n",
    "import numpy as np\n",
    "import re\n",
    "import codecs\n",
    " "
   ]
  },
  {
   "cell_type": "code",
   "execution_count": 18,
   "metadata": {},
   "outputs": [],
   "source": [
    "inputFile=\"../data/cleaned/outputFile 0-500000.csv\"\n",
    "df = pd.read_csv(inputFile)\n",
    "df = df.drop(['id'], axis=1)"
   ]
  },
  {
   "cell_type": "code",
   "execution_count": 17,
   "metadata": {},
   "outputs": [],
   "source": [
    "#Helper Functions\n",
    "\n",
    "from nltk.corpus import stopwords\n",
    "\n",
    "#Few regular expressions to clean up  data\n",
    "def standardize_text(df, text_field):\n",
    "    df[text_field] = df[text_field].str.replace(r\"http\\S+\", \"\")\n",
    "    df[text_field] = df[text_field].str.replace(r\"http\", \"\")\n",
    "    df[text_field] = df[text_field].str.replace(r\"@\\S+\", \"\")\n",
    "    df[text_field] = df[text_field].str.replace(r\"[^A-Za-z0-9(),!?@\\'\\`\\\"\\_\\n]\", \" \")\n",
    "    df[text_field] = df[text_field].str.replace(r\"@\", \"at\")\n",
    "    df[text_field] = df[text_field].str.lower()\n",
    "    return df\n",
    "\n",
    "\n",
    "\n",
    "stopwords.words('english')"
   ]
  },
  {
   "cell_type": "code",
   "execution_count": 19,
   "metadata": {},
   "outputs": [
    {
     "data": {
      "text/html": [
       "<div>\n",
       "<style scoped>\n",
       "    .dataframe tbody tr th:only-of-type {\n",
       "        vertical-align: middle;\n",
       "    }\n",
       "\n",
       "    .dataframe tbody tr th {\n",
       "        vertical-align: top;\n",
       "    }\n",
       "\n",
       "    .dataframe thead th {\n",
       "        text-align: right;\n",
       "    }\n",
       "</style>\n",
       "<table border=\"1\" class=\"dataframe\">\n",
       "  <thead>\n",
       "    <tr style=\"text-align: right;\">\n",
       "      <th></th>\n",
       "      <th>product_type</th>\n",
       "      <th>vendor_name</th>\n",
       "      <th>title</th>\n",
       "      <th>store_domain</th>\n",
       "      <th>description</th>\n",
       "    </tr>\n",
       "  </thead>\n",
       "  <tbody>\n",
       "    <tr>\n",
       "      <th>0</th>\n",
       "      <td>Cookware</td>\n",
       "      <td>Hestan</td>\n",
       "      <td>Hestan Nanobond Stainless 3qt/2.8L covered sau...</td>\n",
       "      <td>atlantagrillcompany.com</td>\n",
       "      <td>NaN</td>\n",
       "    </tr>\n",
       "    <tr>\n",
       "      <th>1</th>\n",
       "      <td>Cookware</td>\n",
       "      <td>Hestan</td>\n",
       "      <td>Hestan Nanobond Titanium Stockpot 8-Quart</td>\n",
       "      <td>atlantagrillcompany.com</td>\n",
       "      <td>NaN</td>\n",
       "    </tr>\n",
       "    <tr>\n",
       "      <th>2</th>\n",
       "      <td>Skillets</td>\n",
       "      <td>Hestan</td>\n",
       "      <td>Hestan Nanobond 8.5\" Open Skillet</td>\n",
       "      <td>dasallas.com</td>\n",
       "      <td>NaN</td>\n",
       "    </tr>\n",
       "    <tr>\n",
       "      <th>3</th>\n",
       "      <td>Saucepans &amp; Sauciers</td>\n",
       "      <td>Hestan</td>\n",
       "      <td>Hestan Nanobond 5-Quart Covered Essential Pan ...</td>\n",
       "      <td>dasallas.com</td>\n",
       "      <td>NaN</td>\n",
       "    </tr>\n",
       "    <tr>\n",
       "      <th>4</th>\n",
       "      <td>Cookware</td>\n",
       "      <td>Hestan</td>\n",
       "      <td>Hestan ProBond Forged Stainless Steel Ultimate...</td>\n",
       "      <td>atlantagrillcompany.com</td>\n",
       "      <td>NaN</td>\n",
       "    </tr>\n",
       "  </tbody>\n",
       "</table>\n",
       "</div>"
      ],
      "text/plain": [
       "           product_type vendor_name  \\\n",
       "0              Cookware      Hestan   \n",
       "1              Cookware      Hestan   \n",
       "2              Skillets      Hestan   \n",
       "3  Saucepans & Sauciers      Hestan   \n",
       "4              Cookware      Hestan   \n",
       "\n",
       "                                               title             store_domain  \\\n",
       "0  Hestan Nanobond Stainless 3qt/2.8L covered sau...  atlantagrillcompany.com   \n",
       "1          Hestan Nanobond Titanium Stockpot 8-Quart  atlantagrillcompany.com   \n",
       "2                  Hestan Nanobond 8.5\" Open Skillet             dasallas.com   \n",
       "3  Hestan Nanobond 5-Quart Covered Essential Pan ...             dasallas.com   \n",
       "4  Hestan ProBond Forged Stainless Steel Ultimate...  atlantagrillcompany.com   \n",
       "\n",
       "   description  \n",
       "0          NaN  \n",
       "1          NaN  \n",
       "2          NaN  \n",
       "3          NaN  \n",
       "4          NaN  "
      ]
     },
     "execution_count": 19,
     "metadata": {},
     "output_type": "execute_result"
    }
   ],
   "source": [
    "df.head()"
   ]
  },
  {
   "cell_type": "code",
   "execution_count": 42,
   "metadata": {},
   "outputs": [
    {
     "name": "stdout",
     "output_type": "stream",
     "text": [
      "a young person of either sex\n",
      "['she writes books for children', \"they're just kids\", \"`tiddler' is a British term for youngster\"]\n",
      "['child', 'kid', 'youngster', 'minor', 'shaver', 'nipper', 'small_fry', 'tiddler', 'tike', 'tyke', 'fry', 'nestling', 'kid', 'kidskin', 'Kyd', 'Kid', 'Thomas_Kyd', 'Thomas_Kid', 'child', 'kid', 'kid', 'pull_the_leg_of', 'kid', 'kid', 'chaff', 'jolly', 'josh', 'banter']\n"
     ]
    }
   ],
   "source": [
    "from nltk.corpus import wordnet\n",
    "\n",
    "word=\"kid\"\n",
    "syn = wordnet.synsets(word)\n",
    "\n",
    "print(syn[0].definition())\n",
    "print(syn[0].examples())\n",
    "\n",
    "synonyms = []\n",
    "\n",
    "for syn in wordnet.synsets(word):\n",
    "\n",
    "    for lemma in syn.lemmas():\n",
    "\n",
    "        synonyms.append(lemma.name())\n",
    "\n",
    "print(synonyms)\n",
    "\n",
    "manSyn=['man', 'male']\n",
    "femaleSyn=['woman', 'women', 'lady', 'female' 'ladies', 'girls']\n",
    "babySyn= ['baby', 'babe', 'child', 'babe','toddler','infant']\n",
    "kidSyn=['kid','child', 'children']\n",
    "\n",
    "\n"
   ]
  },
  {
   "cell_type": "code",
   "execution_count": 50,
   "metadata": {},
   "outputs": [
    {
     "name": "stdout",
     "output_type": "stream",
     "text": [
      "children\n"
     ]
    }
   ],
   "source": [
    "from nltk.stem import PorterStemmer\n",
    "\n",
    "stemmer = PorterStemmer()\n",
    "word=\"children\"\n",
    "print(stemmer.stem(word))"
   ]
  },
  {
   "cell_type": "code",
   "execution_count": 56,
   "metadata": {},
   "outputs": [
    {
     "name": "stdout",
     "output_type": "stream",
     "text": [
      "child\n"
     ]
    }
   ],
   "source": [
    "from nltk.stem import WordNetLemmatizer\n",
    "lemmatizer = WordNetLemmatizer()\n",
    "\n",
    "print(lemmatizer.lemmatize(word, pos=\"n\"))"
   ]
  },
  {
   "cell_type": "code",
   "execution_count": 92,
   "metadata": {},
   "outputs": [],
   "source": [
    "df['product_type']=df['product_type'].astype(str)"
   ]
  },
  {
   "cell_type": "code",
   "execution_count": 123,
   "metadata": {},
   "outputs": [
    {
     "name": "stdout",
     "output_type": "stream",
     "text": [
      "['hello', 'this', 'is', 'my', 'test/you', 'then', 'they', 'are', 'them']\n",
      "<FreqDist with 9 samples and 9 outcomes>\n"
     ]
    },
    {
     "data": {
      "image/png": "[encoded data removed]",
      "text/plain": [
       "<Figure size 432x288 with 1 Axes>"
      ]
     },
     "metadata": {
      "needs_background": "light"
     },
     "output_type": "display_data"
    },
    {
     "name": "stdout",
     "output_type": "stream",
     "text": [
      "Tokenized Word: ['hello', 'this', 'is', 'my', 'test/you', 'then', 'they', 'are', 'them']\n",
      "Filterd Word: ['hello', 'test/you']\n",
      "Lemmatized Word:\n",
      "['hello', 'test/you']\n"
     ]
    }
   ],
   "source": [
    "#Word Tokenization\n",
    "from nltk.tokenize import word_tokenize\n",
    "text=\" hello this is my test/you then they are them\"\n",
    "tokenized_word=word_tokenize(text)\n",
    "print(tokenized_word)\n",
    "\n",
    "\n",
    "#Removing Stopwords\n",
    "from nltk.corpus import stopwords\n",
    "stop_words=set(stopwords.words(\"english\"))\n",
    "#print(stop_words)\n",
    "\n",
    "filtered_token=[]\n",
    "for w in tokenized_word:\n",
    "    if w not in stop_words:\n",
    "        filtered_token.append(w)\n",
    "print(\"Tokenized Word:\",tokenized_word)\n",
    "print(\"Filterd Word:\",filtered_token)\n",
    "\n",
    "\n",
    "#Lexicon Normalization\n",
    "from nltk.stem.wordnet import WordNetLemmatizer\n",
    "lem = WordNetLemmatizer()\n",
    "print(\"Lemmatized Word:\")\n",
    "lems=[lem.lemmatize(word,\"v\") for word in filtered_token]\n",
    "print(lems)\n",
    "\n",
    "\n",
    "\n",
    "#Frequency Distribution\n",
    "\n",
    "from nltk.probability import FreqDist\n",
    "fdist = FreqDist(tokenized_word)\n",
    "print(fdist)\n",
    "fdist.most_common(2)\n",
    "\n",
    "# Frequency Distribution Plot\n",
    "import matplotlib.pyplot as plt\n",
    "fdist.plot(30,cumulative=False)\n",
    "plt.show()\n"
   ]
  },
  {
   "cell_type": "code",
   "execution_count": 145,
   "metadata": {},
   "outputs": [],
   "source": [
    "#tokenize product type\n",
    "df[\"tokens-type\"] = df[\"product_type\"].apply(word_tokenize)"
   ]
  },
  {
   "cell_type": "code",
   "execution_count": 151,
   "metadata": {},
   "outputs": [],
   "source": [
    "\n",
    "#Removing Stopwords\n",
    "def remove_stopwords (tokens):\n",
    "    from nltk.corpus import stopwords\n",
    "    stop_words=set(stopwords.words(\"english\"))\n",
    "    filtered_token=[]\n",
    "    for w in tokens:\n",
    "        if w not in stop_words:\n",
    "            filtered_token.append(w)\n",
    "    return filtered_token\n",
    "\n",
    "#Lexicon Normalization\n",
    "def normalize (tokens):\n",
    "    from nltk.stem.wordnet import WordNetLemmatizer\n",
    "    lem = WordNetLemmatizer()\n",
    "    return [lem.lemmatize(word,\"n\") for word in tokens]\n",
    " "
   ]
  },
  {
   "cell_type": "code",
   "execution_count": 147,
   "metadata": {},
   "outputs": [],
   "source": [
    "df[\"tokens-type\"] = df[\"tokens-type\"].apply(remove_stopwords)"
   ]
  },
  {
   "cell_type": "code",
   "execution_count": 148,
   "metadata": {},
   "outputs": [
    {
     "name": "stdout",
     "output_type": "stream",
     "text": [
      "0                       [Cookware]\n",
      "1                       [Cookware]\n",
      "2                       [Skillets]\n",
      "3         [Saucepans, &, Sauciers]\n",
      "4                       [Cookware]\n",
      "                    ...           \n",
      "499995                     [Parts]\n",
      "499996       [Firearms, -, Pistol]\n",
      "499997         [Grips/Pads/Stocks]\n",
      "499998      [Barrels/Choke, Tubes]\n",
      "499999                   [Outdoor]\n",
      "Name: tokens-type, Length: 500000, dtype: object\n"
     ]
    }
   ],
   "source": [
    "print(df[\"tokens-type\"])\n"
   ]
  },
  {
   "cell_type": "code",
   "execution_count": 152,
   "metadata": {},
   "outputs": [],
   "source": [
    "df[\"tokens-type\"] = df[\"tokens-type\"].apply(normalize)"
   ]
  },
  {
   "cell_type": "code",
   "execution_count": 153,
   "metadata": {},
   "outputs": [
    {
     "name": "stdout",
     "output_type": "stream",
     "text": [
      "0                       [Cookware]\n",
      "1                       [Cookware]\n",
      "2                       [Skillets]\n",
      "3         [Saucepans, &, Sauciers]\n",
      "4                       [Cookware]\n",
      "                    ...           \n",
      "499995                     [Parts]\n",
      "499996       [Firearms, -, Pistol]\n",
      "499997         [Grips/Pads/Stocks]\n",
      "499998      [Barrels/Choke, Tubes]\n",
      "499999                   [Outdoor]\n",
      "Name: tokens-type, Length: 500000, dtype: object\n"
     ]
    }
   ],
   "source": [
    "print(df[\"tokens-type\"])"
   ]
  },
  {
   "cell_type": "code",
   "execution_count": 178,
   "metadata": {},
   "outputs": [
    {
     "name": "stdout",
     "output_type": "stream",
     "text": [
      "[['Cookware'], ['Cookware'], ['Skillets'], ['Saucepans', '&', 'Sauciers'], ['Cookware'], ['Cookware'], ['Cookware', 'Sets'], ['Water', 'Bottles'], ['Cookware'], ['Cookware'], ['Fry', '&', 'Saute', 'Pans'], ['Saucepans', '&', 'Sauciers'], ['Saucepans', '&', 'Sauciers'], ['Saucepans', '&', 'Sauciers'], ['Aprons'], ['Cookware'], ['Cookware'], ['Cookware', 'Sets'], ['Cookware'], ['Cookware'], ['Woks', '&', 'Stir-Fry', 'Pans'], ['Cleaning', 'Care'], ['Cookware'], ['Saucepans', '&', 'Sauciers'], ['Supplements'], ['Vitamins', '&', 'Minerals'], ['Joint', 'Support'], ['Supplements'], ['Liquid', 'Herbal', 'Supplements'], ['Supplements']]\n",
      "Cookware ,Cookware ,Skillets ,Saucepans & Sauciers ,Cookware ,Cookware ,Cookware Sets ,Water Bottles ,Cookware ,Cookware ,Fry & Saute Pans ,Saucepans & Sauciers ,Saucepans & Sauciers ,Saucepans & Sauciers ,Aprons ,Cookware ,Cookware ,Cookware Sets ,Cookware ,Cookware ,Woks & Stir-Fry Pans ,Cleaning \n"
     ]
    }
   ],
   "source": [
    "all_text=[ text for text in df[\"tokens-type\"]]\n",
    "print (all_text[0:30])\n",
    "\n",
    "#combine multiple rows of strings into one\n",
    "\n",
    "all_text= ' ,'.join(df[\"product_type\"])\n",
    "print (all_text[0:300])"
   ]
  },
  {
   "cell_type": "code",
   "execution_count": 183,
   "metadata": {},
   "outputs": [
    {
     "name": "stdout",
     "output_type": "stream",
     "text": [
      "<FreqDist with 27651 samples and 505346 outcomes>\n"
     ]
    },
    {
     "data": {
      "text/plain": [
       "[('nan ', 97902),\n",
       " ('Accessories ', 6380),\n",
       " ('Earrings ', 4280),\n",
       " ('Tops ', 3730),\n",
       " ('Shoes ', 3558),\n",
       " ('Necklace ', 2804),\n",
       " ('Dresses ', 2773),\n",
       " ('Toys ', 2614),\n",
       " ('Dress ', 2390),\n",
       " ('Jewelry ', 2335),\n",
       " ('Ring ', 2274),\n",
       " ('Clothing ', 2235),\n",
       " ('Apparel ', 1982),\n",
       " ('Fabric ', 1906),\n",
       " ('Bottoms ', 1817),\n",
       " ('ondemand ', 1802),\n",
       " ('iiRov Skin Bundle ', 1776),\n",
       " ('T-Shirt ', 1741),\n",
       " ('Necklaces ', 1638),\n",
       " ('video game ', 1620)]"
      ]
     },
     "execution_count": 183,
     "metadata": {},
     "output_type": "execute_result"
    }
   ],
   "source": [
    "from nltk.probability import FreqDist\n",
    "fdist = FreqDist(all_text.split(','))\n",
    "print(fdist)\n",
    "fdist.most_common(20)"
   ]
  },
  {
   "cell_type": "code",
   "execution_count": 184,
   "metadata": {},
   "outputs": [
    {
     "data": {
      "image/png": "[encoded data removed]",
      "text/plain": [
       "<Figure size 432x288 with 1 Axes>"
      ]
     },
     "metadata": {
      "needs_background": "light"
     },
     "output_type": "display_data"
    }
   ],
   "source": [
    "# Frequency Distribution Plot\n",
    "import matplotlib.pyplot as plt\n",
    "fdist.plot(30,cumulative=False)\n",
    "plt.show()"
   ]
  },
  {
   "cell_type": "code",
   "execution_count": null,
   "metadata": {},
   "outputs": [],
   "source": []
  }
 ],
 "metadata": {
  "kernelspec": {
   "display_name": "Python [conda env:insight] *",
   "language": "python",
   "name": "conda-env-insight-py"
  },
  "language_info": {
   "codemirror_mode": {
    "name": "ipython",
    "version": 3
   },
   "file_extension": ".py",
   "mimetype": "text/x-python",
   "name": "python",
   "nbconvert_exporter": "python",
   "pygments_lexer": "ipython3",
   "version": "3.7.7"
  }
 },
 "nbformat": 4,
 "nbformat_minor": 4
}
